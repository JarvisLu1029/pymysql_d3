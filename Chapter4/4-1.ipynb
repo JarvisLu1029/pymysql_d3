{
 "cells": [
  {
   "cell_type": "code",
   "execution_count": null,
   "id": "24a1a15c",
   "metadata": {},
   "outputs": [],
   "source": [
    "import pandas as pd\n",
    "\n",
    "# 讀取 csv 檔案\n"
   ]
  },
  {
   "cell_type": "code",
   "execution_count": null,
   "id": "bc6bc7b3",
   "metadata": {},
   "outputs": [],
   "source": [
    "import pymysql\n",
    "from configparser import ConfigParser\n",
    "\n",
    "\n",
    "# 讀取 .env 檔案取得資料庫連線資訊\n",
    "config = ConfigParser()\n",
    "config.read('../Chapter1/config.ini')\n",
    "\n",
    "# 建立資料庫連線\n",
    "connection = pymysql.connect(\n",
    "    host=config.get('DB', 'host'),\n",
    "    user=config.get('DB', 'user'),\n",
    "    password=config.get('DB', 'password'),\n",
    "    port=config.getint('DB', 'port'),\n",
    "    cursorclass=pymysql.cursors.DictCursor,\n",
    ")\n",
    "\n",
    "with connection.cursor() as cursor:\n",
    "    # 建立資料庫\n",
    "    cursor.execute(f\"CREATE DATABASE IF NOT EXISTS superstore\")\n",
    "\n",
    "    cursor.execute(f\"SHOW DATABASES\")\n",
    "    dbs = cursor.fetchall()\n",
    "    print(dbs)\n",
    "\n",
    "    # 建立資料表\n",
    "    "
   ]
  },
  {
   "cell_type": "code",
   "execution_count": null,
   "id": "1805fbfa",
   "metadata": {},
   "outputs": [],
   "source": [
    "# 建立資料庫連線\n",
    "connection = pymysql.connect(\n",
    "    host=config.get('DB', 'host'),\n",
    "    user=config.get('DB', 'user'),\n",
    "    password=config.get('DB', 'password'),\n",
    "    port=config.getint('DB', 'port'),\n",
    "    cursorclass=pymysql.cursors.DictCursor,\n",
    "    database='superstore'\n",
    ")"
   ]
  },
  {
   "cell_type": "code",
   "execution_count": null,
   "id": "152efe8d",
   "metadata": {},
   "outputs": [],
   "source": [
    "import pandas as pd\n",
    "\n",
    "# 讀取 CSV 檔案\n",
    "\n",
    "\n",
    "# 提取客戶欄位的資料\n",
    "\n",
    "\n",
    "# 去除重複的客戶資料\n"
   ]
  },
  {
   "cell_type": "markdown",
   "id": "daed5495",
   "metadata": {},
   "source": [
    "Customers"
   ]
  },
  {
   "cell_type": "code",
   "execution_count": null,
   "id": "38d07364",
   "metadata": {},
   "outputs": [],
   "source": [
    "# 取得 df 中的客戶資料\n",
    "\n",
    "\n",
    "# 轉成 list 以便後續寫入\n",
    "\n",
    "\n",
    "# 寫入 Customers 資料表\n",
    "\n"
   ]
  },
  {
   "cell_type": "markdown",
   "id": "101ed16b",
   "metadata": {},
   "source": [
    "Orders "
   ]
  },
  {
   "cell_type": "code",
   "execution_count": null,
   "id": "33fe79be",
   "metadata": {},
   "outputs": [],
   "source": [
    "from datetime import datetime\n",
    "\n",
    "# 取得 df 中的訂單資料\n",
    "\n",
    "\n",
    "# 將日期格式轉換為 datetime.date\n",
    "\n",
    "\n",
    "# 轉成 list 以便後續寫入\n",
    "\n",
    "\n",
    "# 寫入 Orders 資料表\n",
    "\n"
   ]
  },
  {
   "cell_type": "markdown",
   "id": "f9037edb",
   "metadata": {},
   "source": [
    "Products"
   ]
  },
  {
   "cell_type": "code",
   "execution_count": null,
   "id": "34fe98d3",
   "metadata": {},
   "outputs": [],
   "source": [
    "# 取得 df 中的產品資料\n",
    "\n",
    "\n",
    "# 轉成 list 以便後續寫入\n",
    "\n",
    "\n",
    "# 寫入 Products 資料表\n",
    "\n"
   ]
  },
  {
   "cell_type": "markdown",
   "id": "482b9455",
   "metadata": {},
   "source": [
    "OrderDetails"
   ]
  },
  {
   "cell_type": "code",
   "execution_count": null,
   "id": "a91ca8c0",
   "metadata": {},
   "outputs": [],
   "source": [
    "# 取得 df 中的訂單明細資料\n",
    "\n",
    "\n",
    "# 轉成 list 以便後續寫入\n",
    "\n",
    "\n",
    "# 寫入 OrderDetails 資料表\n",
    "\n"
   ]
  }
 ],
 "metadata": {
  "kernelspec": {
   "display_name": "base",
   "language": "python",
   "name": "python3"
  },
  "language_info": {
   "codemirror_mode": {
    "name": "ipython",
    "version": 3
   },
   "file_extension": ".py",
   "mimetype": "text/x-python",
   "name": "python",
   "nbconvert_exporter": "python",
   "pygments_lexer": "ipython3",
   "version": "3.9.12"
  }
 },
 "nbformat": 4,
 "nbformat_minor": 5
}
