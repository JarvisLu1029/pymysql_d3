{
 "cells": [
  {
   "cell_type": "code",
   "execution_count": null,
   "id": "06396056",
   "metadata": {},
   "outputs": [],
   "source": []
  },
  {
   "cell_type": "code",
   "execution_count": null,
   "id": "2a35d818",
   "metadata": {},
   "outputs": [],
   "source": [
    "# conflict_products = df.groupby('Product ID')['Product Name'].nunique()\n",
    "# conflict_products = conflict_products[conflict_products > 1]\n",
    "\n",
    "# for product_id in conflict_products.index:\n",
    "    # 找出這個 product_id 下的所有不同 product_name\n",
    "    # subset = df[df['Product ID'] == product_id]\n",
    "    # names = subset['Product Name'].unique()\n",
    "\n",
    "    # 保留第一個名稱的 ID，其餘加上後綴\n",
    "    # for i, name in enumerate(names[1:], start=1):\n",
    "    #     df.loc[(df['Product ID'] == product_id) & (df['Product Name'] == name), 'Product ID'] = f\"{product_id}-{i}\"\n",
    "\n",
    "\n",
    "# 寫回 CSV\n",
    "# df.to_csv('output.csv', index=False, encoding='latin1')\n"
   ]
  },
  {
   "cell_type": "code",
   "execution_count": null,
   "id": "307c54ff",
   "metadata": {},
   "outputs": [],
   "source": [
    "# 用 dict 寫入資料庫\n",
    "def insert_data_to_db(table, data):\n",
    "    columns = ''\n",
    "    values = ''    \n",
    "    for cloumn, value in data.items():\n",
    "        columns += f\"{cloumn}, \"\n",
    "        values += f\"'{value}', \"\n",
    "\n",
    "    with connection.sursor() as cursor:\n",
    "        sql = \"\"\"\n",
    "        INSERT INTO %s (%s) VALUES (%s)\n",
    "        \"\"\"\n",
    "\n",
    "        cursor.execute(sql, (table, columns, values))"
   ]
  }
 ],
 "metadata": {
  "language_info": {
   "name": "python"
  }
 },
 "nbformat": 4,
 "nbformat_minor": 5
}
