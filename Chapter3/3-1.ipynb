{
 "cells": [
  {
   "cell_type": "code",
   "execution_count": null,
   "id": "2556b8fc",
   "metadata": {},
   "outputs": [
    {
     "name": "stdout",
     "output_type": "stream",
     "text": [
      "[{'Tables_in_chapter3': 'users2'}]\n"
     ]
    }
   ],
   "source": [
    "import pymysql\n",
    "from configparser import ConfigParser\n",
    "\n",
    "config = ConfigParser()\n",
    "config.read('../Chapter1/config.ini')\n",
    "\n",
    "connection = pymysql.connect(\n",
    "    host=config.get('DB', 'host'),\n",
    "    user=config.get('DB', 'user'),\n",
    "    password=config.get('DB', 'password'),\n",
    "    port=config.getint('DB', 'port'),\n",
    "    cursorclass=pymysql.cursors.DictCursor,\n",
    ")\n",
    "\n",
    "# 建立資料庫\n",
    "with connection.cursor() as cursor:\n",
    "    sql = \"\"\"\n",
    "    CREATE DATABASE IF NOT EXISTS chapter3;\n",
    "    \"\"\"\n",
    "    cursor.execute(sql)\n",
    "\n",
    "connection = pymysql.connect(\n",
    "    host=config.get('DB', 'host'),\n",
    "    user=config.get('DB', 'user'),\n",
    "    password=config.get('DB', 'password'),\n",
    "    port=config.getint('DB', 'port'),\n",
    "    cursorclass=pymysql.cursors.DictCursor,\n",
    "    db='chapter3',\n",
    ")\n",
    "\n",
    "# 建立有時間紀錄的表格\n",
    "with connection.cursor() as cursor:\n",
    "    sql = \"\"\"\n",
    "        CREATE TABLE IF NOT EXISTS users (\n",
    "            id INT AUTO_INCREMENT PRIMARY KEY,\n",
    "            name VARCHAR(255) NOT NULL,\n",
    "            age INT NOT NULL,\n",
    "            username VARCHAR(255) NOT NULL,\n",
    "            password VARCHAR(255) NOT NULL,\n",
    "            last_login TIMESTAMP DEFAULT CURRENT_TIMESTAMP \n",
    "        );\n",
    "    \"\"\"\n",
    "    cursor.execute(sql)\n",
    "    cursor.execute(\"SHOW TABLES;\")\n",
    "    result = cursor.fetchall()\n",
    "\n",
    "print(result)"
   ]
  },
  {
   "cell_type": "code",
   "execution_count": null,
   "id": "5b35982c",
   "metadata": {},
   "outputs": [
    {
     "name": "stdout",
     "output_type": "stream",
     "text": [
      "[{'age': 25,\n",
      "  'id': 1,\n",
      "  'last_login': datetime.datetime(2025, 5, 25, 15, 52, 22),\n",
      "  'name': 'Jarvis',\n",
      "  'password': '123456',\n",
      "  'username': 'jarvis'}]\n"
     ]
    }
   ],
   "source": [
    "from pprint import pprint\n",
    "with connection.cursor() as cursor:\n",
    "    sql = \"\"\"\n",
    "        INSERT INTO users (name, age, username, password)\n",
    "        VALUES (\"Jarvis\", 25, \"jarvis\", \"123456\");\n",
    "    \"\"\"\n",
    "    cursor.execute(sql)\n",
    "    connection.commit()\n",
    "    cursor.execute(\"SELECT * FROM users;\")\n",
    "    result = cursor.fetchall()\n",
    "pprint(result)"
   ]
  },
  {
   "cell_type": "code",
   "execution_count": null,
   "id": "3c96f0f7",
   "metadata": {},
   "outputs": [
    {
     "name": "stdout",
     "output_type": "stream",
     "text": [
      "2025-05-25 15:31:50\n",
      "<class 'datetime.datetime'>\n"
     ]
    },
    {
     "ename": "TypeError",
     "evalue": "'datetime.datetime' object is not subscriptable",
     "output_type": "error",
     "traceback": [
      "\u001b[1;31m---------------------------------------------------------------------------\u001b[0m",
      "\u001b[1;31mTypeError\u001b[0m                                 Traceback (most recent call last)",
      "Input \u001b[1;32mIn [11]\u001b[0m, in \u001b[0;36m<cell line: 5>\u001b[1;34m()\u001b[0m\n\u001b[0;32m      2\u001b[0m \u001b[38;5;28mprint\u001b[39m(result[\u001b[38;5;241m0\u001b[39m][\u001b[38;5;124m'\u001b[39m\u001b[38;5;124mlast_login\u001b[39m\u001b[38;5;124m'\u001b[39m])\n\u001b[0;32m      3\u001b[0m \u001b[38;5;28mprint\u001b[39m(\u001b[38;5;28mtype\u001b[39m(result[\u001b[38;5;241m0\u001b[39m][\u001b[38;5;124m'\u001b[39m\u001b[38;5;124mlast_login\u001b[39m\u001b[38;5;124m'\u001b[39m]))\n\u001b[1;32m----> 5\u001b[0m \u001b[38;5;28mprint\u001b[39m(\u001b[43mlast_login\u001b[49m\u001b[43m[\u001b[49m\u001b[43m:\u001b[49m\u001b[38;5;241;43m10\u001b[39;49m\u001b[43m]\u001b[49m)\n",
      "\u001b[1;31mTypeError\u001b[0m: 'datetime.datetime' object is not subscriptable"
     ]
    }
   ],
   "source": [
    "last_login = result[0]['last_login']\n",
    "print(result[0]['last_login'])\n",
    "print(type(result[0]['last_login']))"
   ]
  },
  {
   "cell_type": "code",
   "execution_count": 1,
   "id": "0a05ed73",
   "metadata": {},
   "outputs": [
    {
     "name": "stdout",
     "output_type": "stream",
     "text": [
      "2025-05-25 15:26:27.517413\n",
      "2025-05-19 16:11:15\n",
      "2025-05-25 15:26:27\n",
      "民國114年5月25日\n"
     ]
    }
   ],
   "source": [
    "from datetime import datetime\n",
    "\n",
    "# 取得當前時間\n",
    "print(datetime.now()) # 2025-05-19 16:11:15.427674\n",
    "\n",
    "# 取得指定時間的 datetime 物件\n",
    "print(datetime(2025, 5, 19, 16, 11, 15)) # 2025-05-19 16:11:15\n",
    "\n",
    "# 輸出成指定格式\n",
    "print(datetime.now().strftime('%Y-%m-%d %H:%M:%S')) # 2025-05-19 16:11:15\n",
    "\n",
    "# 取得民國年\n",
    "now = datetime.now()\n",
    "print(f\"民國{now.year - 1911}年{now.month}月{now.day}日\") # 114年5月19日"
   ]
  },
  {
   "cell_type": "code",
   "execution_count": 2,
   "id": "e19310f6",
   "metadata": {},
   "outputs": [
    {
     "name": "stdout",
     "output_type": "stream",
     "text": [
      "2025-05-19 16:11:15\n"
     ]
    }
   ],
   "source": [
    "# 將指定格式的字串轉換成 datetime 物件\n",
    "data_time = '2025/05/19 16-11-15'\n",
    "# 轉換成 datetime 物件\n",
    "data_time = datetime.strptime(data_time, '%Y/%m/%d %H-%M-%S')\n",
    "print(data_time) # 2025-05-19 16:11:15"
   ]
  },
  {
   "cell_type": "code",
   "execution_count": 6,
   "id": "2a5ac6d3",
   "metadata": {},
   "outputs": [
    {
     "name": "stdout",
     "output_type": "stream",
     "text": [
      "2025-05-18 17:10:18.305214\n"
     ]
    }
   ],
   "source": [
    "from datetime import timedelta\n",
    "# 取得前一天日期\n",
    "yesterday = datetime.now() - timedelta(days=1)\n",
    "print(yesterday) # 2025-05-18 16:11:15.427674"
   ]
  },
  {
   "cell_type": "code",
   "execution_count": 3,
   "id": "a6ceee29",
   "metadata": {},
   "outputs": [
    {
     "name": "stdout",
     "output_type": "stream",
     "text": [
      "2025-05-19 16:11:15\n"
     ]
    }
   ],
   "source": [
    "# ISO format\n",
    "iso_datetime = '2025-05-19T16:11:15'\n",
    "# 轉換成 datetime 物件\n",
    "iso_datetime = datetime.fromisoformat(iso_datetime)\n",
    "print(iso_datetime) # 2025-05-19 16:11:15"
   ]
  }
 ],
 "metadata": {
  "kernelspec": {
   "display_name": "base",
   "language": "python",
   "name": "python3"
  },
  "language_info": {
   "codemirror_mode": {
    "name": "ipython",
    "version": 3
   },
   "file_extension": ".py",
   "mimetype": "text/x-python",
   "name": "python",
   "nbconvert_exporter": "python",
   "pygments_lexer": "ipython3",
   "version": "3.9.12"
  }
 },
 "nbformat": 4,
 "nbformat_minor": 5
}
