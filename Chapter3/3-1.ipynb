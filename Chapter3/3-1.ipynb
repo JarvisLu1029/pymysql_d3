{
 "cells": [
  {
   "cell_type": "code",
   "execution_count": null,
   "id": "2556b8fc",
   "metadata": {},
   "outputs": [],
   "source": [
    "import pymysql\n",
    "from configparser import ConfigParser\n",
    "\n",
    "config = ConfigParser()\n",
    "config.read('../Chapter1/config.ini')\n",
    "\n",
    "connection = pymysql.connect(\n",
    "    host=config.get('DB', 'host'),\n",
    "    user=config.get('DB', 'user'),\n",
    "    password=config.get('DB', 'password'),\n",
    "    port=config.getint('DB', 'port'),\n",
    "    cursorclass=pymysql.cursors.DictCursor,\n",
    ")\n",
    "\n",
    "# 建立資料庫\n",
    "with connection.cursor() as cursor:\n",
    "    sql = \"\"\"\n",
    "    CREATE DATABASE IF NOT EXISTS chapter3;\n",
    "    \"\"\"\n",
    "    cursor.execute(sql)\n",
    "\n",
    "connection = pymysql.connect(\n",
    "    host=config.get('DB', 'host'),\n",
    "    user=config.get('DB', 'user'),\n",
    "    password=config.get('DB', 'password'),\n",
    "    port=config.getint('DB', 'port'),\n",
    "    cursorclass=pymysql.cursors.DictCursor,\n",
    "    db='chapter3',\n",
    ")\n",
    "\n",
    "# 建立有時間紀錄的表格\n",
    "with connection.cursor() as cursor:\n",
    "    sql = \"\"\"\n",
    "        CREATE TABLE IF NOT EXISTS user (\n",
    "            id INT AUTO_INCREMENT PRIMARY KEY,\n",
    "            name VARCHAR(255) NOT NULL,\n",
    "            age INT,\n",
    "            username VARCHAR(255) NOT NULL UNIQUE,\n",
    "            password VARCHAR(255) NOT NULL,\n",
    "        \n",
    "        );\n",
    "    \"\"\"\n",
    "    cursor.execute(sql)\n",
    "    cursor.execute(\"SHOW TABLES;\")\n",
    "    result = cursor.fetchall()\n",
    "\n",
    "print(result)"
   ]
  },
  {
   "cell_type": "code",
   "execution_count": null,
   "id": "5b35982c",
   "metadata": {},
   "outputs": [],
   "source": [
    "from pprint import pprint\n",
    "with connection.cursor() as cursor:\n",
    "    sql = \"\"\"\n",
    "\n",
    "    \"\"\"\n",
    "    cursor.execute(sql)\n",
    "    connection.commit()\n",
    "    cursor.execute(\"SELECT * FROM users;\")\n",
    "    result = cursor.fetchall()\n",
    "pprint(result)"
   ]
  },
  {
   "cell_type": "code",
   "execution_count": null,
   "id": "0a05ed73",
   "metadata": {},
   "outputs": [],
   "source": [
    "from datetime import datetime\n",
    "\n",
    "# 取得當前時間\n",
    "\n",
    "\n",
    "# 取得指定時間的 datetime 物件\n",
    "\n",
    "\n",
    "# 輸出成指定格式\n",
    "\n",
    "\n",
    "# 取得民國年\n",
    "\n"
   ]
  },
  {
   "cell_type": "code",
   "execution_count": null,
   "id": "e19310f6",
   "metadata": {},
   "outputs": [],
   "source": [
    "# 將指定格式的字串轉換成 datetime 物件\n",
    "\n",
    "\n",
    "# 轉換成 datetime 物件\n",
    "\n"
   ]
  },
  {
   "cell_type": "code",
   "execution_count": null,
   "id": "2a5ac6d3",
   "metadata": {},
   "outputs": [],
   "source": [
    "# 取得前一天日期\n"
   ]
  }
 ],
 "metadata": {
  "kernelspec": {
   "display_name": "base",
   "language": "python",
   "name": "python3"
  },
  "language_info": {
   "codemirror_mode": {
    "name": "ipython",
    "version": 3
   },
   "file_extension": ".py",
   "mimetype": "text/x-python",
   "name": "python",
   "nbconvert_exporter": "python",
   "pygments_lexer": "ipython3",
   "version": "3.9.12"
  }
 },
 "nbformat": 4,
 "nbformat_minor": 5
}
