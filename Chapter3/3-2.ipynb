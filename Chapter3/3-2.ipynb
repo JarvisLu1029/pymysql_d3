{
 "cells": [
  {
   "cell_type": "code",
   "execution_count": null,
   "id": "16fdefc8",
   "metadata": {},
   "outputs": [],
   "source": [
    "import pymysql\n",
    "from configparser import ConfigParser\n",
    "\n",
    "config = ConfigParser()\n",
    "config.read('../Chapter1/config.ini')\n",
    "\n",
    "connection = pymysql.connect(\n",
    "    host=config.get('DB', 'host'),\n",
    "    user=config.get('DB', 'user'),\n",
    "    password=config.get('DB', 'password'),\n",
    "    port=config.getint('DB', 'port'),\n",
    "    cursorclass=pymysql.cursors.DictCursor,\n",
    ")\n",
    "\n",
    "with connection.cursor() as cursor:\n",
    "    sql = \"\"\"\n",
    "    CREATE DATABASE IF NOT EXISTS chapter3;\n",
    "    \"\"\"\n",
    "    cursor.execute(sql)\n",
    "    "
   ]
  },
  {
   "cell_type": "code",
   "execution_count": null,
   "id": "8c44d548",
   "metadata": {},
   "outputs": [],
   "source": [
    "connection = pymysql.connect(\n",
    "    host=config.get('DB', 'host'),\n",
    "    user=config.get('DB', 'user'),\n",
    "    password=config.get('DB', 'password'),\n",
    "    port=config.getint('DB', 'port'),\n",
    "    cursorclass=pymysql.cursors.DictCursor,\n",
    "    db='chapter3',\n",
    ")\n",
    "\n",
    "# 建立有時間紀錄的表格\n",
    "with connection.cursor() as cursor:\n",
    "    sql = \"\"\"\n",
    "        CREATE TABLE IF NOT EXISTS users2 (\n",
    "            id INT AUTO_INCREMENT PRIMARY KEY,\n",
    "            name VARCHAR(255) NOT NULL,\n",
    "            age INT NOT NULL,\n",
    "            username VARCHAR(255) NOT NULL,\n",
    "            password VARCHAR(255) NOT NULL,\n",
    "\n",
    "            \n",
    "        );\n",
    "    \"\"\"\n",
    "    cursor.execute(sql)\n"
   ]
  },
  {
   "cell_type": "code",
   "execution_count": null,
   "id": "bd48c834",
   "metadata": {},
   "outputs": [],
   "source": [
    "# 取得當前時間並插入資料\n",
    "\n",
    "\n",
    "with connection.cursor() as cursor:\n",
    "    sql = \"\"\"\n",
    "        INSERT INTO users2 (name, age, username, password)\n",
    "        VALUES (\"Jarvis\", 25, \"jarvis\", \"123456\");\n",
    "    \"\"\"\n",
    "    # 這裡使用標準 SQL 日期格式 'YYYY-MM-DD HH:MM:SS' 或是 datetime 物件都可以\n",
    "    cursor.execute(sql, ())\n",
    "\n",
    "    connection.commit()\n"
   ]
  }
 ],
 "metadata": {
  "kernelspec": {
   "display_name": "base",
   "language": "python",
   "name": "python3"
  },
  "language_info": {
   "codemirror_mode": {
    "name": "ipython",
    "version": 3
   },
   "file_extension": ".py",
   "mimetype": "text/x-python",
   "name": "python",
   "nbconvert_exporter": "python",
   "pygments_lexer": "ipython3",
   "version": "3.9.12"
  }
 },
 "nbformat": 4,
 "nbformat_minor": 5
}
