{
 "cells": [
  {
   "cell_type": "code",
   "execution_count": 2,
   "id": "16fdefc8",
   "metadata": {},
   "outputs": [],
   "source": [
    "import pymysql\n",
    "from configparser import ConfigParser\n",
    "\n",
    "config = ConfigParser()\n",
    "config.read('../Chapter1/config.ini')\n",
    "\n",
    "connection = pymysql.connect(\n",
    "    host=config.get('DB', 'host'),\n",
    "    user=config.get('DB', 'user'),\n",
    "    password=config.get('DB', 'password'),\n",
    "    port=config.getint('DB', 'port'),\n",
    "    cursorclass=pymysql.cursors.DictCursor,\n",
    ")\n",
    "\n",
    "with connection.cursor() as cursor:\n",
    "    sql = \"\"\"\n",
    "    CREATE DATABASE IF NOT EXISTS chapter3;\n",
    "    \"\"\"\n",
    "    cursor.execute(sql)\n",
    "    "
   ]
  },
  {
   "cell_type": "code",
   "execution_count": null,
   "id": "e462ba33",
   "metadata": {},
   "outputs": [],
   "source": [
    "with connection.cursor() as cursor:\n",
    "    sql = \"\"\"\n",
    "    DROP DATABASE IF EXISTS chapter3;\n",
    "    \"\"\"\n",
    "    cursor.execute(sql)"
   ]
  },
  {
   "cell_type": "code",
   "execution_count": null,
   "id": "8c44d548",
   "metadata": {},
   "outputs": [
    {
     "name": "stdout",
     "output_type": "stream",
     "text": [
      "[{'Tables_in_chapter3': 'users'}, {'Tables_in_chapter3': 'users2'}]\n"
     ]
    }
   ],
   "source": [
    "connection = pymysql.connect(\n",
    "    host=config.get('DB', 'host'),\n",
    "    user=config.get('DB', 'user'),\n",
    "    password=config.get('DB', 'password'),\n",
    "    port=config.getint('DB', 'port'),\n",
    "    cursorclass=pymysql.cursors.DictCursor,\n",
    "    db='chapter3',\n",
    ")\n",
    "\n",
    "# 建立有時間紀錄的表格\n",
    "with connection.cursor() as cursor:\n",
    "    sql = \"\"\"\n",
    "        CREATE TABLE IF NOT EXISTS users2 (\n",
    "            id INT AUTO_INCREMENT PRIMARY KEY,\n",
    "            name VARCHAR(255) NOT NULL,\n",
    "            age INT NOT NULL,\n",
    "            username VARCHAR(255) NOT NULL,\n",
    "            password VARCHAR(255) NOT NULL,\n",
    "            start_date DATE DEFAULT NULL,\n",
    "            last_login TIMESTAMP DEFAULT CURRENT_TIMESTAMP\n",
    "        );\n",
    "    \"\"\"\n",
    "    cursor.execute(sql)\n",
    "    cursor.execute(\"SHOW TABLES;\")\n",
    "    result = cursor.fetchall()\n",
    "\n",
    "print(result)"
   ]
  },
  {
   "cell_type": "code",
   "execution_count": 7,
   "id": "7b57e669",
   "metadata": {},
   "outputs": [
    {
     "name": "stdout",
     "output_type": "stream",
     "text": [
      "2025-05-25 16:04:26.167213\n",
      "2025-05-25\n",
      "2025-05-24\n"
     ]
    }
   ],
   "source": [
    "from datetime import datetime, timedelta\n",
    "\n",
    "datetime_now = datetime.now()\n",
    "print(datetime_now)\n",
    "start_date = datetime_now.date()\n",
    "print(start_date)\n",
    "\n",
    "yesterday = datetime_now - timedelta(days=1)\n",
    "print(yesterday.date())"
   ]
  },
  {
   "cell_type": "code",
   "execution_count": null,
   "id": "bd48c834",
   "metadata": {},
   "outputs": [
    {
     "name": "stdout",
     "output_type": "stream",
     "text": [
      "[{'id': 1, 'name': 'Jarvis', 'age': 25, 'username': 'jarvis', 'password': '123456', 'start_date': datetime.date(2025, 5, 24), 'last_login': datetime.datetime(2025, 5, 25, 16, 4, 26)}]\n"
     ]
    }
   ],
   "source": [
    "# 取得當前時間並插入資料\n",
    "datetime_now = datetime.now()\n",
    "\n",
    "with connection.cursor() as cursor:\n",
    "    sql = \"\"\"\n",
    "        INSERT INTO users2 (name, age, username, password, start_date, last_login)\n",
    "        VALUES (\"Jarvis\", 25, \"jarvis\", \"123456\", %s, %s);\n",
    "    \"\"\"\n",
    "    # 這裡使用標準 SQL 日期格式 'YYYY-MM-DD HH:MM:SS' 或是 datetime 物件都可以\n",
    "    cursor.execute(sql, (\"2025-05-24\", datetime_now))\n",
    "    connection.commit()\n",
    "    cursor.execute(\"SELECT * FROM users;\")\n",
    "    result = cursor.fetchall()\n",
    "print(result)"
   ]
  }
 ],
 "metadata": {
  "kernelspec": {
   "display_name": "base",
   "language": "python",
   "name": "python3"
  },
  "language_info": {
   "codemirror_mode": {
    "name": "ipython",
    "version": 3
   },
   "file_extension": ".py",
   "mimetype": "text/x-python",
   "name": "python",
   "nbconvert_exporter": "python",
   "pygments_lexer": "ipython3",
   "version": "3.9.12"
  }
 },
 "nbformat": 4,
 "nbformat_minor": 5
}
