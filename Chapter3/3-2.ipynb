{
 "cells": [
  {
   "cell_type": "code",
   "execution_count": 2,
   "id": "6f82794f",
   "metadata": {},
   "outputs": [
    {
     "name": "stdout",
     "output_type": "stream",
     "text": [
      "[{'Tables_in_superstore': 'Customers'}, {'Tables_in_superstore': 'OrderDetails'}, {'Tables_in_superstore': 'Orders'}, {'Tables_in_superstore': 'Products'}]\n"
     ]
    }
   ],
   "source": [
    "import pymysql\n",
    "from configparser import ConfigParser\n",
    "\n",
    "# 讀取 .env 檔案取得資料庫連線資訊\n",
    "config = ConfigParser()\n",
    "config.read('.env')\n",
    "\n",
    "# 建立資料庫連線\n",
    "connection = pymysql.connect(\n",
    "    host=config.get('DB', 'host'),\n",
    "    user=config.get('DB', 'user'),\n",
    "    password=config.get('DB', 'password'),\n",
    "    port=config.getint('DB', 'port'),\n",
    "    cursorclass=pymysql.cursors.DictCursor,\n",
    ")\n",
    "\n",
    "# 查看資料庫中的所有資料表\n",
    "with connection.cursor() as cursor:\n",
    "    cursor.execute(\"SHOW TABLES FROM superstore;\")\n",
    "    tables = cursor.fetchall()\n",
    "\n",
    "print(tables)"
   ]
  },
  {
   "cell_type": "code",
   "execution_count": 3,
   "id": "f280ee85",
   "metadata": {},
   "outputs": [],
   "source": [
    "def sql_query(query):\n",
    "    \"\"\"\n",
    "    執行 SQL 查詢並返回結果\n",
    "    :param query: SQL 查詢語句\n",
    "    :return: 查詢結果\n",
    "    \"\"\"\n",
    "    with connection.cursor() as cursor:\n",
    "        cursor.execute(query)\n",
    "        result = cursor.fetchall()\n",
    "        \n",
    "    return result"
   ]
  },
  {
   "cell_type": "code",
   "execution_count": 11,
   "id": "1c3a9fab",
   "metadata": {},
   "outputs": [
    {
     "name": "stdout",
     "output_type": "stream",
     "text": [
      "[{'category': 'Furniture', 'count': 2121}, {'category': 'Office Supplies', 'count': 6026}, {'category': 'Technology', 'count': 1847}]\n",
      "[{'label': 'Furniture', 'value': 2121}, {'label': 'Office Supplies', 'value': 6026}, {'label': 'Technology', 'value': 1847}]\n"
     ]
    }
   ],
   "source": [
    "category_query = \"\"\"\n",
    "SELECT P.category, COUNT(*) as count FROM superstore.Products as P \n",
    "JOIN superstore.OrderDetails as O ON P.product_id = O.product_id\n",
    "GROUP BY category;\n",
    "\"\"\"\n",
    "\n",
    "category_count_result = sql_query(category_query)\n",
    "print(category_count_result)\n",
    "\n",
    "result = [{\"label\": category[\"category\"], \"value\": category[\"count\"]} for category in category_count_result]\n",
    "\n",
    "print(result)"
   ]
  },
  {
   "cell_type": "code",
   "execution_count": 12,
   "id": "2b900185",
   "metadata": {},
   "outputs": [
    {
     "name": "stdout",
     "output_type": "stream",
     "text": [
      "[{'sub_category': 'Bookcases', 'Count': 228}, {'sub_category': 'Chairs', 'Count': 617}, {'sub_category': 'Furnishings', 'Count': 957}, {'sub_category': 'Tables', 'Count': 319}, {'sub_category': 'Appliances', 'Count': 466}, {'sub_category': 'Art', 'Count': 796}, {'sub_category': 'Binders', 'Count': 1523}, {'sub_category': 'Envelopes', 'Count': 254}, {'sub_category': 'Fasteners', 'Count': 217}, {'sub_category': 'Labels', 'Count': 364}, {'sub_category': 'Paper', 'Count': 1370}, {'sub_category': 'Storage', 'Count': 846}, {'sub_category': 'Supplies', 'Count': 190}, {'sub_category': 'Accessories', 'Count': 775}, {'sub_category': 'Copiers', 'Count': 68}, {'sub_category': 'Machines', 'Count': 115}, {'sub_category': 'Phones', 'Count': 889}]\n"
     ]
    }
   ],
   "source": [
    "sub_category_query = \"\"\"\n",
    "SELECT P.sub_category, COUNT(*) as Count FROM superstore.Products as P\n",
    "JOIN superstore.OrderDetails as O ON P.product_id = O.product_id\n",
    "GROUP BY sub_category;\n",
    "\"\"\"\n",
    "\n",
    "sub_category_count_result = sql_query(sub_category_query)\n",
    "print(sub_category_count_result)"
   ]
  },
  {
   "cell_type": "code",
   "execution_count": 20,
   "id": "6625fd45",
   "metadata": {},
   "outputs": [
    {
     "name": "stdout",
     "output_type": "stream",
     "text": [
      "[{'category': 'Furniture', 'sub_category': 'Bookcases', 'profit': Decimal('-3472.56')}, {'category': 'Furniture', 'sub_category': 'Chairs', 'profit': Decimal('26590.15')}, {'category': 'Furniture', 'sub_category': 'Furnishings', 'profit': Decimal('13059.25')}, {'category': 'Furniture', 'sub_category': 'Tables', 'profit': Decimal('-17725.59')}, {'category': 'Office Supplies', 'sub_category': 'Appliances', 'profit': Decimal('18138.07')}, {'category': 'Office Supplies', 'sub_category': 'Art', 'profit': Decimal('6527.96')}, {'category': 'Office Supplies', 'sub_category': 'Binders', 'profit': Decimal('30221.64')}, {'category': 'Office Supplies', 'sub_category': 'Envelopes', 'profit': Decimal('6964.10')}, {'category': 'Office Supplies', 'sub_category': 'Fasteners', 'profit': Decimal('949.53')}, {'category': 'Office Supplies', 'sub_category': 'Labels', 'profit': Decimal('5546.18')}, {'category': 'Office Supplies', 'sub_category': 'Paper', 'profit': Decimal('34053.34')}, {'category': 'Office Supplies', 'sub_category': 'Storage', 'profit': Decimal('21279.05')}, {'category': 'Office Supplies', 'sub_category': 'Supplies', 'profit': Decimal('-1188.99')}, {'category': 'Technology', 'sub_category': 'Accessories', 'profit': Decimal('41936.78')}, {'category': 'Technology', 'sub_category': 'Copiers', 'profit': Decimal('55617.90')}, {'category': 'Technology', 'sub_category': 'Machines', 'profit': Decimal('3384.73')}, {'category': 'Technology', 'sub_category': 'Phones', 'profit': Decimal('44516.25')}]\n",
      "{'name': 'Profit', 'children': [{'name': 'Furniture', 'children': [{'name': 'Bookcases', 'value': Decimal('-3472.56')}, {'name': 'Chairs', 'value': Decimal('26590.15')}, {'name': 'Furnishings', 'value': Decimal('13059.25')}, {'name': 'Tables', 'value': Decimal('-17725.59')}]}, {'name': 'Office Supplies', 'children': [{'name': 'Appliances', 'value': Decimal('18138.07')}, {'name': 'Art', 'value': Decimal('6527.96')}, {'name': 'Binders', 'value': Decimal('30221.64')}, {'name': 'Envelopes', 'value': Decimal('6964.10')}, {'name': 'Fasteners', 'value': Decimal('949.53')}, {'name': 'Labels', 'value': Decimal('5546.18')}, {'name': 'Paper', 'value': Decimal('34053.34')}, {'name': 'Storage', 'value': Decimal('21279.05')}, {'name': 'Supplies', 'value': Decimal('-1188.99')}]}, {'name': 'Technology', 'children': [{'name': 'Accessories', 'value': Decimal('41936.78')}, {'name': 'Copiers', 'value': Decimal('55617.90')}, {'name': 'Machines', 'value': Decimal('3384.73')}, {'name': 'Phones', 'value': Decimal('44516.25')}]}]}\n"
     ]
    }
   ],
   "source": [
    "profit_query = \"\"\"\n",
    "SELECT \n",
    "    P.category,\n",
    "    P.sub_category, \n",
    "    SUM(O.profit) AS profit\n",
    "FROM \n",
    "    superstore.Products AS P\n",
    "JOIN \n",
    "    superstore.OrderDetails AS O \n",
    "    ON P.product_id = O.product_id\n",
    "GROUP BY \n",
    "    P.category, P.sub_category;\n",
    "\n",
    "\"\"\"\n",
    "profit_count_result = sql_query(profit_query)\n",
    "print(profit_count_result)\n",
    "\n",
    "result = {\n",
    "    \"name\": \"Profit\",\n",
    "    \"children\": []\n",
    "}\n",
    "\n",
    "for profit_count in profit_count_result:\n",
    "    category = profit_count[\"category\"]\n",
    "    sub_category = profit_count[\"sub_category\"]\n",
    "    profit = profit_count[\"profit\"]\n",
    "    \n",
    "    # 檢查 category 是否已存在於 result 中\n",
    "    category_found = False\n",
    "    for child in result[\"children\"]:\n",
    "        if child[\"name\"] == category:\n",
    "            category_found = True\n",
    "            break\n",
    "    \n",
    "    # 如果 category 不存在，則新增一個\n",
    "    if not category_found:\n",
    "        result[\"children\"].append({\n",
    "            \"name\": category,\n",
    "            \"children\": []\n",
    "        })\n",
    "    \n",
    "    # 將 sub_category 和 profit 新增到對應的 category 中\n",
    "    for child in result[\"children\"]:\n",
    "        if child[\"name\"] == category:\n",
    "            child[\"children\"].append({\n",
    "                \"name\": sub_category,\n",
    "                \"value\": profit\n",
    "            })\n",
    "# 印出結果\n",
    "print(result)\n"
   ]
  },
  {
   "cell_type": "code",
   "execution_count": 9,
   "id": "f39083f3",
   "metadata": {},
   "outputs": [
    {
     "name": "stdout",
     "output_type": "stream",
     "text": [
      "[{'category': 'Furniture', 'sub_category': 'Bookcases', 'product_name': 'Bush Birmingham Collection Bookcase, Dark Cherry', 'sales': Decimal('825.17'), 'profit': Decimal('-117.88')}, {'category': 'Furniture', 'sub_category': 'Bookcases', 'product_name': 'Sauder Camden County Barrister Bookcase, Planked Cherry Finish', 'sales': Decimal('1064.62'), 'profit': Decimal('24.19')}, {'category': 'Furniture', 'sub_category': 'Bookcases', 'product_name': 'Sauder Inglewood Library Bookcases', 'sales': Decimal('2154.35'), 'profit': Decimal('311.18')}, {'category': 'Furniture', 'sub_category': 'Bookcases', 'product_name': \"O'Sullivan 2-Shelf Heavy-Duty Bookcases\", 'sales': Decimal('723.85'), 'profit': Decimal('-133.11')}, {'category': 'Furniture', 'sub_category': 'Bookcases', 'product_name': 'Hon Metal Bookcases, Gray', 'sales': Decimal('851.76'), 'profit': Decimal('229.97')}, {'category': 'Furniture', 'sub_category': 'Bookcases', 'product_name': \"O'Sullivan Plantations 2-Door Library in Landvery Oak\", 'sales': Decimal('2946.36'), 'profit': Decimal('-767.75')}, {'category': 'Furniture', 'sub_category': 'Bookcases', 'product_name': \"O'Sullivan Living Dimensions 2-Shelf Bookcases\", 'sales': Decimal('2970.07'), 'profit': Decimal('-78.64')}, {'category': 'Furniture', 'sub_category': 'Bookcases', 'product_name': \"O'Sullivan 3-Shelf Heavy-Duty Bookcases\", 'sales': Decimal('1119.20'), 'profit': Decimal('147.09')}, {'category': 'Furniture', 'sub_category': 'Bookcases', 'product_name': 'Bush Westfield Collection Bookcases, Dark Cherry Finish, Fully Assembled', 'sales': Decimal('90.88'), 'profit': Decimal('-190.85')}, {'category': 'Furniture', 'sub_category': 'Bookcases', 'product_name': 'Sauder Mission Library with Doors, Fruitwood Finish', 'sales': Decimal('935.20'), 'profit': Decimal('-125.74')}]\n"
     ]
    }
   ],
   "source": [
    "profit_sales_query = \"\"\"\n",
    "SELECT category, sub_category, product_name, SUM(sales) AS sales, SUM(profit) AS profit FROM superstore.OrderDetails AS O\n",
    "JOIN superstore.Products AS P ON O.product_id = P.product_id\n",
    "GROUP BY category, sub_category, product_name\n",
    "LIMIT 10;\n",
    "\"\"\"\n",
    "\n",
    "profit_sales_result = sql_query(profit_sales_query)\n",
    "print(profit_sales_result)"
   ]
  }
 ],
 "metadata": {
  "kernelspec": {
   "display_name": "ispan_env",
   "language": "python",
   "name": "python3"
  },
  "language_info": {
   "codemirror_mode": {
    "name": "ipython",
    "version": 3
   },
   "file_extension": ".py",
   "mimetype": "text/x-python",
   "name": "python",
   "nbconvert_exporter": "python",
   "pygments_lexer": "ipython3",
   "version": "3.12.3"
  }
 },
 "nbformat": 4,
 "nbformat_minor": 5
}
