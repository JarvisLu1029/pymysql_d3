{
 "cells": [
  {
   "cell_type": "markdown",
   "id": "b298f488",
   "metadata": {},
   "source": [
    "讀取設定檔"
   ]
  },
  {
   "cell_type": "code",
   "execution_count": null,
   "id": "c9619228",
   "metadata": {},
   "outputs": [],
   "source": [
    "# 引入模組\n",
    "\n",
    "# 讀取 config.ini 檔案取得資料庫連線資訊\n",
    "\n",
    "\n",
    "# 讀取 DB 區塊\n",
    "# 讀取 host\n",
    "# 讀取 user"
   ]
  },
  {
   "cell_type": "markdown",
   "id": "eb901acf",
   "metadata": {},
   "source": [
    "使用設定檔建立資料庫連線"
   ]
  },
  {
   "cell_type": "code",
   "execution_count": null,
   "id": "33dbd62c",
   "metadata": {},
   "outputs": [],
   "source": [
    "import pymysql\n",
    "\n",
    "# 讀取 config.ini 檔案取得資料庫連線資訊\n",
    "\n",
    "# 建立資料庫連線\n",
    "connection = pymysql.connect(\n",
    "    host=,\n",
    "    user=,\n",
    "    password=,\n",
    "    port=,\n",
    "    cursorclass=pymysql.cursors.DictCursor,\n",
    ")\n",
    "\n",
    "with connection.cursor() as cursor:\n",
    "    query = \"\"\"\n",
    "        SHOW DATABASES;\n",
    "    \"\"\"\n",
    "    cursor.execute(query)\n",
    "    result = cursor.fetchall()\n",
    "print(result)"
   ]
  },
  {
   "cell_type": "markdown",
   "id": "ed5bcff3",
   "metadata": {},
   "source": [
    "使用 SQL 函式"
   ]
  },
  {
   "cell_type": "code",
   "execution_count": null,
   "id": "9c536ed3",
   "metadata": {},
   "outputs": [],
   "source": [
    "from sql_utils import sql_query\n",
    "\n",
    "data = sql_query(\"SHOW DATABASES;\")\n",
    "print(data)"
   ]
  }
 ],
 "metadata": {
  "kernelspec": {
   "display_name": "base",
   "language": "python",
   "name": "python3"
  },
  "language_info": {
   "codemirror_mode": {
    "name": "ipython",
    "version": 3
   },
   "file_extension": ".py",
   "mimetype": "text/x-python",
   "name": "python",
   "nbconvert_exporter": "python",
   "pygments_lexer": "ipython3",
   "version": "3.9.12"
  }
 },
 "nbformat": 4,
 "nbformat_minor": 5
}
