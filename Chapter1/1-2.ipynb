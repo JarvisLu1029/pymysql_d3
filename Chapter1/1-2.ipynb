{
 "cells": [
  {
   "cell_type": "markdown",
   "id": "b298f488",
   "metadata": {},
   "source": [
    "讀取設定檔"
   ]
  },
  {
   "cell_type": "code",
   "execution_count": null,
   "id": "c9619228",
   "metadata": {},
   "outputs": [],
   "source": [
    "from configparser import ConfigParser\n",
    "\n",
    "# 讀取 config.ini 檔案取得資料庫連線資訊\n",
    "config = ConfigParser()\n",
    "config.read('config.ini')\n",
    "\n",
    "print(config['DB']) # 讀取 DB 區塊\n",
    "print(config['DB']['host']) # 讀取 host\n",
    "print(config['DB']['user']) # 讀取 user"
   ]
  },
  {
   "cell_type": "markdown",
   "id": "eb901acf",
   "metadata": {},
   "source": [
    "使用設定檔建立資料庫連線"
   ]
  },
  {
   "cell_type": "code",
   "execution_count": 1,
   "id": "33dbd62c",
   "metadata": {},
   "outputs": [
    {
     "name": "stdout",
     "output_type": "stream",
     "text": [
      "[{'Database': 'glis_test'}, {'Database': 'information_schema'}, {'Database': 'mydatabase'}, {'Database': 'mylocation'}, {'Database': 'mysql'}, {'Database': 'ntnu_books'}, {'Database': 'performance_schema'}, {'Database': 'sakila'}, {'Database': 'stock_project'}, {'Database': 'superstore'}, {'Database': 'sys'}, {'Database': 'world'}]\n"
     ]
    }
   ],
   "source": [
    "import pymysql\n",
    "from configparser import ConfigParser\n",
    "# 讀取 config.ini 檔案取得資料庫連線資訊\n",
    "config = ConfigParser()\n",
    "config.read('config.ini')\n",
    "\n",
    "connection = pymysql.connect(\n",
    "    host=config.get('DB', 'host'),\n",
    "    user=config.get('DB', 'user'),\n",
    "    password=config.get('DB', 'password'),\n",
    "    port=config.getint('DB', 'port'),\n",
    "    cursorclass=pymysql.cursors.DictCursor,\n",
    ")\n",
    "\n",
    "with connection.cursor() as cursor:\n",
    "    query = \"\"\"\n",
    "        SHOW DATABASES;\n",
    "    \"\"\"\n",
    "    cursor.execute(query)\n",
    "    result = cursor.fetchall()\n",
    "print(result)"
   ]
  },
  {
   "cell_type": "markdown",
   "id": "ed5bcff3",
   "metadata": {},
   "source": [
    "使用 SQL 函式"
   ]
  },
  {
   "cell_type": "code",
   "execution_count": 2,
   "id": "9c536ed3",
   "metadata": {},
   "outputs": [
    {
     "name": "stdout",
     "output_type": "stream",
     "text": [
      "[{'Database': 'glis_test'}, {'Database': 'information_schema'}, {'Database': 'mydatabase'}, {'Database': 'mylocation'}, {'Database': 'mysql'}, {'Database': 'ntnu_books'}, {'Database': 'performance_schema'}, {'Database': 'sakila'}, {'Database': 'stock_project'}, {'Database': 'superstore'}, {'Database': 'sys'}, {'Database': 'world'}]\n"
     ]
    }
   ],
   "source": [
    "from sql_utils import sql_query\n",
    "\n",
    "data = sql_query(\"SHOW DATABASES;\")\n",
    "print(data)"
   ]
  },
  {
   "cell_type": "code",
   "execution_count": 12,
   "id": "4875de66",
   "metadata": {},
   "outputs": [
    {
     "name": "stdout",
     "output_type": "stream",
     "text": [
      "[{'Database': 'glis_test'}, {'Database': 'information_schema'}, {'Database': 'mydatabase'}, {'Database': 'mylocation'}, {'Database': 'mysql'}, {'Database': 'ntnu_books'}, {'Database': 'performance_schema'}, {'Database': 'sakila'}, {'Database': 'stock_project'}, {'Database': 'superstore'}, {'Database': 'sys'}, {'Database': 'world'}]\n",
      "[{'Database': 'glis_test'}, {'Database': 'information_schema'}, {'Database': 'mydatabase'}, {'Database': 'mylocation'}, {'Database': 'mysql'}, {'Database': 'ntnu_books'}, {'Database': 'performance_schema'}, {'Database': 'sakila'}, {'Database': 'stock_project'}, {'Database': 'superstore'}, {'Database': 'sys'}, {'Database': 'world'}]\n",
      "[{'Database': 'glis_test'}, {'Database': 'information_schema'}, {'Database': 'mydatabase'}, {'Database': 'mylocation'}, {'Database': 'mysql'}, {'Database': 'ntnu_books'}, {'Database': 'performance_schema'}, {'Database': 'sakila'}, {'Database': 'stock_project'}, {'Database': 'superstore'}, {'Database': 'sys'}, {'Database': 'world'}]\n",
      "[{'Database': 'glis_test'}, {'Database': 'information_schema'}, {'Database': 'mydatabase'}, {'Database': 'mylocation'}, {'Database': 'mysql'}, {'Database': 'ntnu_books'}, {'Database': 'performance_schema'}, {'Database': 'sakila'}, {'Database': 'stock_project'}, {'Database': 'superstore'}, {'Database': 'sys'}, {'Database': 'world'}]\n",
      "[{'Database': 'glis_test'}, {'Database': 'information_schema'}, {'Database': 'mydatabase'}, {'Database': 'mylocation'}, {'Database': 'mysql'}, {'Database': 'ntnu_books'}, {'Database': 'performance_schema'}, {'Database': 'sakila'}, {'Database': 'stock_project'}, {'Database': 'superstore'}, {'Database': 'sys'}, {'Database': 'world'}]\n"
     ]
    }
   ],
   "source": [
    "import concurrent.futures\n",
    "\n",
    "with concurrent.futures.ThreadPoolExecutor(max_workers=3) as executor:\n",
    "    # 提交多個任務\n",
    "    futures = [executor.submit(sql_query, \"SHOW DATABASES;\") for i in range(5)]\n",
    "\n",
    "    # 等待所有任務完成，並取得結果\n",
    "    for future in concurrent.futures.as_completed(futures):\n",
    "        result = future.result()\n",
    "        print(result)\n"
   ]
  },
  {
   "cell_type": "markdown",
   "id": "c0a602cf",
   "metadata": {},
   "source": [
    "查看目前連線數量"
   ]
  },
  {
   "cell_type": "code",
   "execution_count": 3,
   "id": "d5bb7e7b",
   "metadata": {},
   "outputs": [
    {
     "name": "stdout",
     "output_type": "stream",
     "text": [
      "{'Variable_name': 'Threads_connected', 'Value': '3'}\n"
     ]
    }
   ],
   "source": [
    "with connection.cursor() as cursor:\n",
    "    query = \"\"\"\n",
    "        SHOW STATUS LIKE 'Threads_connected';\n",
    "    \"\"\"\n",
    "    cursor.execute(query)\n",
    "    result = cursor.fetchone()\n",
    "print(result)"
   ]
  }
 ],
 "metadata": {
  "kernelspec": {
   "display_name": "base",
   "language": "python",
   "name": "python3"
  },
  "language_info": {
   "codemirror_mode": {
    "name": "ipython",
    "version": 3
   },
   "file_extension": ".py",
   "mimetype": "text/x-python",
   "name": "python",
   "nbconvert_exporter": "python",
   "pygments_lexer": "ipython3",
   "version": "3.9.12"
  }
 },
 "nbformat": 4,
 "nbformat_minor": 5
}
