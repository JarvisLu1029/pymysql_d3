{
 "cells": [
  {
   "cell_type": "markdown",
   "id": "b298f488",
   "metadata": {},
   "source": [
    "讀取設定檔"
   ]
  },
  {
   "cell_type": "code",
   "execution_count": null,
   "id": "c9619228",
   "metadata": {},
   "outputs": [
    {
     "name": "stdout",
     "output_type": "stream",
     "text": [
      "<Section: DB>\n"
     ]
    }
   ],
   "source": [
    "from configparser import ConfigParser\n",
    "\n",
    "# 讀取 .env 檔案取得資料庫連線資訊\n",
    "config = ConfigParser()\n",
    "config.read('config.ini')\n",
    "\n",
    "print(config['DB']) # 讀取 DB 區塊\n",
    "print(config['DB']['host']) # 讀取 host\n",
    "print(config['DB']['user']) # 讀取 user"
   ]
  },
  {
   "cell_type": "markdown",
   "id": "eb901acf",
   "metadata": {},
   "source": [
    "使用設定檔建立資料庫連線"
   ]
  },
  {
   "cell_type": "code",
   "execution_count": null,
   "id": "33dbd62c",
   "metadata": {},
   "outputs": [
    {
     "name": "stdout",
     "output_type": "stream",
     "text": [
      "[{'Database': 'employee_management'}, {'Database': 'ems_20250219'}, {'Database': 'information_schema'}, {'Database': 'mysql'}, {'Database': 'performance_schema'}, {'Database': 'superstore'}, {'Database': 'sys'}, {'Database': 'test_db'}]\n"
     ]
    }
   ],
   "source": [
    "import pymysql\n",
    "from configparser import ConfigParser\n",
    "# 讀取 .env 檔案取得資料庫連線資訊\n",
    "config = ConfigParser()\n",
    "config.read('config.ini')\n",
    "\n",
    "connection = pymysql.connect(\n",
    "    host=config.get('DB', 'host'),\n",
    "    user=config.get('DB', 'user'),\n",
    "    password=config.get('DB', 'password'),\n",
    "    port=config.getint('DB', 'port'),\n",
    "    cursorclass=pymysql.cursors.DictCursor,\n",
    ")\n",
    "\n",
    "with connection.cursor() as cursor:\n",
    "    query = \"\"\"\n",
    "        SHOW DATABASES;\n",
    "    \"\"\"\n",
    "    cursor.execute(query)\n",
    "    result = cursor.fetchall()\n",
    "print(result)"
   ]
  },
  {
   "cell_type": "markdown",
   "id": "d9ca1dae",
   "metadata": {},
   "source": [
    "建立資料庫"
   ]
  },
  {
   "cell_type": "code",
   "execution_count": 9,
   "id": "f4ad4cad",
   "metadata": {},
   "outputs": [
    {
     "name": "stdout",
     "output_type": "stream",
     "text": [
      "[{'Database': 'employee_management'}, {'Database': 'ems_20250219'}, {'Database': 'information_schema'}, {'Database': 'mysql'}, {'Database': 'performance_schema'}, {'Database': 'superstore'}, {'Database': 'sys'}, {'Database': 'test_db'}]\n"
     ]
    }
   ],
   "source": [
    "with connection.cursor() as cursor:\n",
    "    sql = \"\"\"\n",
    "        CREATE DATABASE IF NOT EXISTS test_db;        \n",
    "    \"\"\"\n",
    "    # cursor.execute(sql)\n",
    "    cursor.execute(\"SHOW DATABASES;\")\n",
    "    result = cursor.fetchall()\n",
    "\n",
    "print(result)"
   ]
  },
  {
   "cell_type": "markdown",
   "id": "3c991f67",
   "metadata": {},
   "source": [
    "建立資料表"
   ]
  },
  {
   "cell_type": "code",
   "execution_count": null,
   "id": "5b298020",
   "metadata": {},
   "outputs": [
    {
     "name": "stdout",
     "output_type": "stream",
     "text": [
      "[{'Tables_in_test_db': 'users'}]\n"
     ]
    }
   ],
   "source": [
    "connection = pymysql.connect(\n",
    "    host=config.get('DB', 'host'),\n",
    "    user=config.get('DB', 'user'),\n",
    "    password=config.get('DB', 'password'),\n",
    "    port=config.getint('DB', 'port'),\n",
    "    cursorclass=pymysql.cursors.DictCursor,\n",
    ")\n",
    "\n",
    "with connection.cursor() as cursor:\n",
    "    sql = \"\"\"\n",
    "        CREATE TABLE IF NOT EXISTS users (\n",
    "            id INT AUTO_INCREMENT PRIMARY KEY,\n",
    "            name VARCHAR(255) NOT NULL,\n",
    "            age INT NOT NULL,\n",
    "            username VARCHAR(255) NOT NULL,\n",
    "            password VARCHAR(255) NOT NULL\n",
    "        );\n",
    "    \"\"\"\n",
    "    cursor.execute(sql)\n",
    "    cursor.execute(\"SHOW TABLES;\")\n",
    "    result = cursor.fetchall()\n",
    "\n",
    "print(result)"
   ]
  },
  {
   "cell_type": "code",
   "execution_count": 29,
   "id": "e6e1d86c",
   "metadata": {},
   "outputs": [
    {
     "name": "stdout",
     "output_type": "stream",
     "text": [
      "[{'id': 1, 'name': 'John Doe', 'age': 30, 'username': 'test_user', 'password': 'test_password'}]\n"
     ]
    }
   ],
   "source": [
    "with connection.cursor() as cursor:\n",
    "    sql = \"\"\"\n",
    "        SELECT * FROM users;\n",
    "    \"\"\"\n",
    "    cursor.execute(sql)\n",
    "    result = cursor.fetchall()\n",
    "print(result)"
   ]
  },
  {
   "cell_type": "code",
   "execution_count": null,
   "id": "44977835",
   "metadata": {},
   "outputs": [
    {
     "name": "stdout",
     "output_type": "stream",
     "text": [
      "()\n"
     ]
    }
   ],
   "source": [
    "with connection.cursor() as cursor:\n",
    "    sql = \"\"\"\n",
    "        DROP TABLE IF EXISTS users;\n",
    "    \"\"\"\n",
    "    cursor.execute(sql)\n",
    "    cursor.execute(\"SHOW TABLES;\")\n",
    "    result = cursor.fetchall()\n",
    "\n",
    "print(result)"
   ]
  }
 ],
 "metadata": {
  "kernelspec": {
   "display_name": "ispan_env",
   "language": "python",
   "name": "python3"
  },
  "language_info": {
   "codemirror_mode": {
    "name": "ipython",
    "version": 3
   },
   "file_extension": ".py",
   "mimetype": "text/x-python",
   "name": "python",
   "nbconvert_exporter": "python",
   "pygments_lexer": "ipython3",
   "version": "3.12.3"
  }
 },
 "nbformat": 4,
 "nbformat_minor": 5
}
