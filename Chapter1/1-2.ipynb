{
 "cells": [
  {
   "cell_type": "code",
   "execution_count": null,
   "id": "c9619228",
   "metadata": {},
   "outputs": [],
   "source": [
    "import pymysql\n",
    "\n"
   ]
  }
 ],
 "metadata": {
  "kernelspec": {
   "display_name": "ispan_env",
   "language": "python",
   "name": "python3"
  },
  "language_info": {
   "name": "python",
   "version": "3.12.3"
  }
 },
 "nbformat": 4,
 "nbformat_minor": 5
}
