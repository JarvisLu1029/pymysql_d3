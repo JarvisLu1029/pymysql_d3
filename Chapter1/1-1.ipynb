{
 "cells": [
  {
   "cell_type": "code",
   "execution_count": 4,
   "id": "f1448294",
   "metadata": {},
   "outputs": [
    {
     "name": "stdout",
     "output_type": "stream",
     "text": [
      "Collecting cryptography\n",
      "  Downloading cryptography-44.0.3-cp39-abi3-win_amd64.whl.metadata (5.7 kB)\n",
      "Requirement already satisfied: cffi>=1.12 in c:\\users\\jarvis_lu\\appdata\\local\\programs\\python\\python312\\lib\\site-packages (from cryptography) (1.16.0)\n",
      "Requirement already satisfied: pycparser in c:\\users\\jarvis_lu\\appdata\\local\\programs\\python\\python312\\lib\\site-packages (from cffi>=1.12->cryptography) (2.22)\n",
      "Downloading cryptography-44.0.3-cp39-abi3-win_amd64.whl (3.2 MB)\n",
      "   ---------------------------------------- 0.0/3.2 MB ? eta -:--:--\n",
      "   ---------------------------------------- 0.0/3.2 MB 682.7 kB/s eta 0:00:05\n",
      "   - -------------------------------------- 0.1/3.2 MB 1.7 MB/s eta 0:00:02\n",
      "   -- ------------------------------------- 0.2/3.2 MB 2.3 MB/s eta 0:00:02\n",
      "   ------ --------------------------------- 0.5/3.2 MB 3.9 MB/s eta 0:00:01\n",
      "   ------------ --------------------------- 1.0/3.2 MB 6.4 MB/s eta 0:00:01\n",
      "   ------------------------- -------------- 2.1/3.2 MB 10.1 MB/s eta 0:00:01\n",
      "   ----------------------------------- ---- 2.9/3.2 MB 13.1 MB/s eta 0:00:01\n",
      "   ----------------------------------- ---- 2.9/3.2 MB 13.1 MB/s eta 0:00:01\n",
      "   ----------------------------------- ---- 2.9/3.2 MB 13.1 MB/s eta 0:00:01\n",
      "   ----------------------------------- ---- 2.9/3.2 MB 13.1 MB/s eta 0:00:01\n",
      "   ----------------------------------- ---- 2.9/3.2 MB 8.4 MB/s eta 0:00:01\n",
      "   ------------------------------------ --- 2.9/3.2 MB 7.2 MB/s eta 0:00:01\n",
      "   ------------------------------------- -- 3.0/3.2 MB 6.6 MB/s eta 0:00:01\n",
      "   -------------------------------------- - 3.1/3.2 MB 6.3 MB/s eta 0:00:01\n",
      "   ---------------------------------------  3.2/3.2 MB 6.1 MB/s eta 0:00:01\n",
      "   ---------------------------------------  3.2/3.2 MB 5.8 MB/s eta 0:00:01\n",
      "   ---------------------------------------- 3.2/3.2 MB 5.7 MB/s eta 0:00:00\n",
      "Installing collected packages: cryptography\n",
      "Successfully installed cryptography-44.0.3\n",
      "Note: you may need to restart the kernel to use updated packages.\n"
     ]
    },
    {
     "name": "stderr",
     "output_type": "stream",
     "text": [
      "\n",
      "[notice] A new release of pip is available: 24.0 -> 25.1.1\n",
      "[notice] To update, run: python.exe -m pip install --upgrade pip\n"
     ]
    }
   ],
   "source": [
    "%pip install cryptography"
   ]
  },
  {
   "cell_type": "code",
   "execution_count": 28,
   "id": "72b10f2d",
   "metadata": {},
   "outputs": [
    {
     "name": "stdout",
     "output_type": "stream",
     "text": [
      "[{'Database': 'employee_management'},\n",
      " {'Database': 'ems_20250219'},\n",
      " {'Database': 'information_schema'},\n",
      " {'Database': 'mysql'},\n",
      " {'Database': 'performance_schema'},\n",
      " {'Database': 'superstore'},\n",
      " {'Database': 'sys'}]\n",
      "True\n"
     ]
    }
   ],
   "source": [
    "import pymysql\n",
    "from pprint import pprint\n",
    "\n",
    "# 建立 MySQL 資料庫連線\n",
    "connection = pymysql.connect(\n",
    "    host='192.168.168.51',\n",
    "    user='root',\n",
    "    password='mca_ems',\n",
    "    port=3307,\n",
    "    cursorclass=pymysql.cursors.DictCursor,\n",
    "    database='employee_management'\n",
    ")\n",
    "\n",
    "# 建立游標\n",
    "cursor = connection.cursor()\n",
    "# 使用游標執行 SQL 語句\n",
    "cursor.execute(\"SHOW DATABASES\")\n",
    "# 取得所有資料\n",
    "dbs = cursor.fetchall()\n",
    "\n",
    "# 輸出查詢結果\n",
    "pprint(dbs) \n",
    "\n",
    "# 關閉游標\n",
    "cursor.close()\n",
    "# 關閉資料庫連線\n",
    "# connection.close()\n",
    "\n",
    "print(connection.open)\n"
   ]
  },
  {
   "cell_type": "code",
   "execution_count": 25,
   "id": "c5ae32f0",
   "metadata": {},
   "outputs": [
    {
     "name": "stdout",
     "output_type": "stream",
     "text": [
      "[{'Database': 'employee_management'}, {'Database': 'ems_20250219'}, {'Database': 'information_schema'}, {'Database': 'mysql'}, {'Database': 'performance_schema'}, {'Database': 'sys'}]\n"
     ]
    }
   ],
   "source": [
    "connection = pymysql.connect(\n",
    "    host='192.168.168.51',\n",
    "    user='root',\n",
    "    password='mca_ems',\n",
    "    port=3307,\n",
    "    cursorclass=pymysql.cursors.DictCursor,\n",
    "    database='employee_management'\n",
    ")\n",
    "\n",
    "# 建立游標\n",
    "with connection.cursor() as cursor:\n",
    "    # 使用游標執行 SQL 語句\n",
    "    sql = \"SHOW DATABASES;\"\n",
    "    cursor.execute(sql)\n",
    "    # 取得所有資料\n",
    "    databases = cursor.fetchall()\n",
    "\n",
    "print(databases)"
   ]
  },
  {
   "cell_type": "code",
   "execution_count": 23,
   "id": "7a39d592",
   "metadata": {},
   "outputs": [
    {
     "name": "stdout",
     "output_type": "stream",
     "text": [
      "[{'username': 'Admin'}, {'username': 'Celine'}, {'username': 'Fanny'}, {'username': 'Francoise'}, {'username': 'Gene'}, {'username': 'Homer'}, {'username': 'HR'}, {'username': 'hr_test'}, {'username': 'jarvis_lu'}, {'username': 'Jason'}]\n"
     ]
    }
   ],
   "source": [
    "def sql_query(query):\n",
    "    with connection.cursor() as cursor:\n",
    "        cursor.execute(query)\n",
    "        result = cursor.fetchall()\n",
    "    return result\n",
    "\n",
    "# 查看 users 資料表\n",
    "users = sql_query(\"SELECT username FROM main_user;\")\n",
    "print(users)\n",
    "\n"
   ]
  },
  {
   "cell_type": "code",
   "execution_count": 24,
   "id": "6c2bda10",
   "metadata": {},
   "outputs": [
    {
     "name": "stdout",
     "output_type": "stream",
     "text": [
      "[{'id': 1, 'check_in': datetime.datetime(2025, 2, 6, 14, 45, 29, 400374), 'check_out': datetime.datetime(2025, 2, 6, 14, 45, 30, 343453), 'check_in_location': 'Office', 'check_out_location': 'Office', 'check_in_ip': '192.168.168.158', 'check_out_ip': '192.168.168.158', 'user_id': 9}]\n"
     ]
    }
   ],
   "source": [
    "attendances = sql_query(\"SELECT * FROM main_attendance LIMIT 1;\")\n",
    "print(attendances)"
   ]
  }
 ],
 "metadata": {
  "kernelspec": {
   "display_name": "Python 3",
   "language": "python",
   "name": "python3"
  },
  "language_info": {
   "codemirror_mode": {
    "name": "ipython",
    "version": 3
   },
   "file_extension": ".py",
   "mimetype": "text/x-python",
   "name": "python",
   "nbconvert_exporter": "python",
   "pygments_lexer": "ipython3",
   "version": "3.12.3"
  }
 },
 "nbformat": 4,
 "nbformat_minor": 5
}
