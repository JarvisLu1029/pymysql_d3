{
 "cells": [
  {
   "cell_type": "markdown",
   "id": "b38dff6e",
   "metadata": {},
   "source": [
    "安裝套件"
   ]
  },
  {
   "cell_type": "code",
   "execution_count": null,
   "id": "f1448294",
   "metadata": {},
   "outputs": [],
   "source": [
    "%pip install cryptography"
   ]
  },
  {
   "cell_type": "markdown",
   "id": "d53dea08",
   "metadata": {},
   "source": [
    "建立資料庫連線"
   ]
  },
  {
   "cell_type": "code",
   "execution_count": 24,
   "id": "7d6e003a",
   "metadata": {},
   "outputs": [],
   "source": [
    "import pymysql\n",
    "# 建立 MySQL 資料庫連線\n",
    "connection = pymysql.connect( # connect 函式回傳 connection 物件\n",
    "    host='192.168.168.127', # MySQL 伺服器的 IP 位址\n",
    "    user='root', # 登入 MySQL 的使用者名稱\n",
    "    password='mca_ems', # 登入 MySQL 的密碼\n",
    "    port=3307, # MySQL 伺服器的端口\n",
    ")"
   ]
  },
  {
   "cell_type": "code",
   "execution_count": null,
   "id": "72b10f2d",
   "metadata": {},
   "outputs": [],
   "source": [
    "from pprint import pprint\n",
    "\n",
    "# 建立游標\n",
    "cursor = connection.cursor()\n",
    "# 使用游標執行 SQL 語句\n",
    "cursor.execute(\"SHOW DATABASES\")\n",
    "# 取得所有資料\n",
    "dbs = cursor.fetchall()\n",
    "\n",
    "# 輸出查詢結果\n",
    "pprint(dbs) \n",
    "\n",
    "# 關閉游標\n",
    "cursor.close()\n",
    "# 關閉資料庫連線\n",
    "# connection.close()\n",
    "\n",
    "print(connection.open)\n"
   ]
  },
  {
   "cell_type": "markdown",
   "id": "e2e2e6a7",
   "metadata": {},
   "source": [
    "建議的寫法"
   ]
  },
  {
   "cell_type": "code",
   "execution_count": null,
   "id": "c4864071",
   "metadata": {},
   "outputs": [],
   "source": [
    "connection = pymysql.connect(\n",
    "    host='192.168.168.127',\n",
    "    user='root',\n",
    "    password='mca_ems',\n",
    "    port=3307,\n",
    ")\n",
    "\n",
    "with connection.cursor() as cursor:\n",
    "    # 使用游標執行 SQL 語句\n",
    "    cursor.execute(\"SHOW TABLES FROM employee_management;\")\n",
    "    # 取得所有資料\n",
    "    tables = cursor.fetchall()\n",
    "\n",
    "    print(tables)"
   ]
  },
  {
   "cell_type": "code",
   "execution_count": 35,
   "id": "9c917e09",
   "metadata": {},
   "outputs": [
    {
     "name": "stdout",
     "output_type": "stream",
     "text": [
      "((1,\n",
      "  'Admin',\n",
      "  None,\n",
      "  'AdminUser',\n",
      "  'BioInf/IT',\n",
      "  datetime.datetime(2025, 2, 8, 9, 51, 8, 434477)),\n",
      " (2,\n",
      "  'jarvis_lu',\n",
      "  '',\n",
      "  'Jarvis Lu',\n",
      "  'BioInf/IT',\n",
      "  datetime.datetime(2025, 2, 19, 15, 43, 0, 610623)),\n",
      " (3, 'Gene', None, 'Gene_Manager', 'BioInf/IT', None),\n",
      " (4,\n",
      "  'Jason',\n",
      "  None,\n",
      "  'Jason',\n",
      "  'BioInf/IT',\n",
      "  datetime.datetime(2025, 2, 19, 15, 48, 39, 29619)))\n"
     ]
    }
   ],
   "source": [
    "from pprint import pprint\n",
    "with connection.cursor() as cursor:\n",
    "    # 使用 DB > TABLE 查詢\n",
    "    sql = \"SELECT id, username, ch_name, name, department, last_login FROM main_user limit 4;\"\n",
    "    cursor.execute(sql)\n",
    "    users = cursor.fetchall()\n",
    "\n",
    "pprint(users)"
   ]
  },
  {
   "cell_type": "markdown",
   "id": "ada1b46a",
   "metadata": {},
   "source": [
    "指定資料庫"
   ]
  },
  {
   "cell_type": "code",
   "execution_count": 26,
   "id": "eb87b2f6",
   "metadata": {},
   "outputs": [
    {
     "name": "stdout",
     "output_type": "stream",
     "text": [
      "(('employee_management',), ('ems_20250219',), ('information_schema',), ('mysql',), ('performance_schema',), ('superstore',), ('sys',))\n"
     ]
    }
   ],
   "source": [
    "import pymysql\n",
    "connection = pymysql.connect(\n",
    "    host='192.168.168.127',\n",
    "    user='root',\n",
    "    password='mca_ems',\n",
    "    port=3307,\n",
    "    database='employee_management' # 指定資料庫\n",
    ")\n",
    "\n",
    "# 建立游標\n",
    "with connection.cursor() as cursor:\n",
    "    # 使用游標執行 SQL 語句\n",
    "    sql = \"SHOW DATABASES;\"\n",
    "    cursor.execute(sql)\n",
    "    # 取得所有資料\n",
    "    databases = cursor.fetchall()\n",
    "\n",
    "print(databases)"
   ]
  },
  {
   "cell_type": "markdown",
   "id": "d88c9336",
   "metadata": {},
   "source": [
    "使用 cursorclass 修改回傳資料格式"
   ]
  },
  {
   "cell_type": "code",
   "execution_count": null,
   "id": "c5ae32f0",
   "metadata": {},
   "outputs": [],
   "source": [
    "connection = pymysql.connect(\n",
    "    host='192.168.168.127',\n",
    "    user='root',\n",
    "    password='mca_ems',\n",
    "    port=3307,\n",
    "    cursorclass=pymysql.cursors.DictCursor,\n",
    "    database='employee_management'\n",
    ")\n",
    "\n",
    "\n",
    "# 建立游標\n",
    "with connection.cursor() as cursor:\n",
    "    # 使用游標執行 SQL 語句\n",
    "    sql = \"SHOW DATABASES;\"\n",
    "    cursor.execute(sql)\n",
    "    # 取得所有資料\n",
    "    databases = cursor.fetchall()\n",
    "\n",
    "print(databases)"
   ]
  },
  {
   "cell_type": "markdown",
   "id": "d99a378c",
   "metadata": {},
   "source": [
    "查詢資料庫"
   ]
  },
  {
   "cell_type": "code",
   "execution_count": 36,
   "id": "7a39d592",
   "metadata": {},
   "outputs": [
    {
     "name": "stdout",
     "output_type": "stream",
     "text": [
      "[{'ch_name': None,\n",
      "  'department': 'BioInf/IT',\n",
      "  'id': 1,\n",
      "  'last_login': datetime.datetime(2025, 2, 8, 9, 51, 8, 434477),\n",
      "  'name': 'AdminUser',\n",
      "  'username': 'Admin'},\n",
      " {'ch_name': '',\n",
      "  'department': 'BioInf/IT',\n",
      "  'id': 2,\n",
      "  'last_login': datetime.datetime(2025, 2, 19, 15, 43, 0, 610623),\n",
      "  'name': 'Jarvis Lu',\n",
      "  'username': 'jarvis_lu'},\n",
      " {'ch_name': None,\n",
      "  'department': 'BioInf/IT',\n",
      "  'id': 3,\n",
      "  'last_login': None,\n",
      "  'name': 'Gene_Manager',\n",
      "  'username': 'Gene'},\n",
      " {'ch_name': None,\n",
      "  'department': 'BioInf/IT',\n",
      "  'id': 4,\n",
      "  'last_login': datetime.datetime(2025, 2, 19, 15, 48, 39, 29619),\n",
      "  'name': 'Jason',\n",
      "  'username': 'Jason'}]\n"
     ]
    }
   ],
   "source": [
    "from pprint import pprint\n",
    "def sql_query(query):\n",
    "    connection = pymysql.connect(\n",
    "        host='192.168.168.127',\n",
    "        user='root',\n",
    "        password='mca_ems',\n",
    "        port=3307,\n",
    "        cursorclass=pymysql.cursors.DictCursor,\n",
    "        database='employee_management'\n",
    "    )\n",
    "\n",
    "    with connection.cursor() as cursor:\n",
    "        cursor.execute(query)\n",
    "        result = cursor.fetchall()\n",
    "    return result\n",
    "\n",
    "# 查看 users 資料表\n",
    "users = sql_query(\"SELECT id, username, ch_name, name, department, last_login FROM main_user limit 4;\")\n",
    "pprint(users)\n"
   ]
  }
 ],
 "metadata": {
  "kernelspec": {
   "display_name": "ispan_env",
   "language": "python",
   "name": "python3"
  },
  "language_info": {
   "codemirror_mode": {
    "name": "ipython",
    "version": 3
   },
   "file_extension": ".py",
   "mimetype": "text/x-python",
   "name": "python",
   "nbconvert_exporter": "python",
   "pygments_lexer": "ipython3",
   "version": "3.12.3"
  }
 },
 "nbformat": 4,
 "nbformat_minor": 5
}
