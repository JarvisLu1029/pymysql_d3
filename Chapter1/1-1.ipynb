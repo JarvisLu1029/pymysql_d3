{
 "cells": [
  {
   "cell_type": "markdown",
   "id": "b38dff6e",
   "metadata": {},
   "source": [
    "安裝套件"
   ]
  },
  {
   "cell_type": "code",
   "execution_count": null,
   "id": "f1448294",
   "metadata": {},
   "outputs": [],
   "source": []
  },
  {
   "cell_type": "markdown",
   "id": "d53dea08",
   "metadata": {},
   "source": [
    "建立資料庫連線"
   ]
  },
  {
   "cell_type": "code",
   "execution_count": null,
   "id": "7d6e003a",
   "metadata": {},
   "outputs": [],
   "source": [
    "import pymysql\n",
    "# 建立 MySQL 資料庫連線\n",
    "# connect 函式回傳 connection 物件\n",
    "\n",
    "# MySQL 伺服器的 IP 位址\n",
    "# 登入 MySQL 的使用者名稱\n",
    "# 登入 MySQL 的密碼\n",
    "# MySQL 伺服器的端口\n"
   ]
  },
  {
   "cell_type": "code",
   "execution_count": null,
   "id": "72b10f2d",
   "metadata": {},
   "outputs": [],
   "source": [
    "from pprint import pprint\n",
    "\n",
    "# 建立游標\n",
    "\n",
    "# 使用游標執行 SQL 語句\n",
    "\n",
    "# 取得所有資料\n",
    "\n",
    "# 輸出查詢結果\n",
    "\n",
    "# 關閉游標\n",
    "\n",
    "# 關閉資料庫連線\n",
    "# connection.close()\n",
    "\n",
    "# print(connection.open)\n"
   ]
  },
  {
   "cell_type": "markdown",
   "id": "e2e2e6a7",
   "metadata": {},
   "source": [
    "建議的寫法"
   ]
  },
  {
   "cell_type": "code",
   "execution_count": null,
   "id": "c4864071",
   "metadata": {},
   "outputs": [],
   "source": [
    "connection = pymysql.connect(\n",
    "    host='localhost',\n",
    "    user='root', \n",
    "    password='p@ssw0rd',\n",
    "    port=3306, \n",
    ")\n",
    "\n",
    "# 建立游標\n",
    "\n",
    "# 使用游標執行 SQL 語句\n",
    "\n",
    "# 取得所有資料\n"
   ]
  },
  {
   "cell_type": "code",
   "execution_count": null,
   "id": "9c917e09",
   "metadata": {},
   "outputs": [],
   "source": [
    "from pprint import pprint\n",
    "\n",
    "# 使用 DB > TABLE 查詢\n"
   ]
  },
  {
   "cell_type": "markdown",
   "id": "ada1b46a",
   "metadata": {},
   "source": [
    "指定資料庫"
   ]
  },
  {
   "cell_type": "code",
   "execution_count": null,
   "id": "eb87b2f6",
   "metadata": {},
   "outputs": [],
   "source": [
    "import pymysql\n",
    "connection = pymysql.connect(\n",
    "    host='localhost',\n",
    "    user='root', \n",
    "    password='p@ssw0rd',\n",
    "    port=3306,\n",
    "    # 連線時指定資料庫名稱\n",
    ")\n",
    "\n",
    "# 建立游標\n",
    "with connection.cursor() as cursor:\n",
    "    # 使用游標執行 SQL 語句\n",
    "    sql = \"SHOW DATABASES;\"\n",
    "    cursor.execute(sql)\n",
    "    # 取得所有資料\n",
    "    databases = cursor.fetchall()\n",
    "\n",
    "print(databases)"
   ]
  },
  {
   "cell_type": "markdown",
   "id": "d88c9336",
   "metadata": {},
   "source": [
    "使用 cursorclass 修改回傳資料格式"
   ]
  },
  {
   "cell_type": "code",
   "execution_count": null,
   "id": "c5ae32f0",
   "metadata": {},
   "outputs": [],
   "source": [
    "# 資料庫連線\n",
    "connection = pymysql.connect(\n",
    "    host='localhost',\n",
    "    user='root', \n",
    "    password='p@ssw0rd',\n",
    "    port=3306,\n",
    "    database=\"database_name\",\n",
    "    # 使用字典型游標\n",
    ")\n",
    "\n",
    "# 建立游標\n",
    "with connection.cursor() as cursor:\n",
    "    # 使用游標執行 SQL 語句\n",
    "    sql = \"SHOW DATABASES;\"\n",
    "    cursor.execute(sql)\n",
    "    # 取得所有資料\n",
    "    databases = cursor.fetchall()\n",
    "\n",
    "print(databases)"
   ]
  },
  {
   "cell_type": "markdown",
   "id": "d99a378c",
   "metadata": {},
   "source": [
    "查詢資料庫"
   ]
  },
  {
   "cell_type": "code",
   "execution_count": null,
   "id": "7a39d592",
   "metadata": {},
   "outputs": [],
   "source": []
  }
 ],
 "metadata": {
  "kernelspec": {
   "display_name": "base",
   "language": "python",
   "name": "python3"
  },
  "language_info": {
   "codemirror_mode": {
    "name": "ipython",
    "version": 3
   },
   "file_extension": ".py",
   "mimetype": "text/x-python",
   "name": "python",
   "nbconvert_exporter": "python",
   "pygments_lexer": "ipython3",
   "version": "3.9.12"
  }
 },
 "nbformat": 4,
 "nbformat_minor": 5
}
