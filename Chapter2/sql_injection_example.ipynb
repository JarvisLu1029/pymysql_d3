{
 "cells": [
  {
   "cell_type": "code",
   "execution_count": 1,
   "id": "f96b2655",
   "metadata": {},
   "outputs": [],
   "source": [
    "import pymysql\n",
    "from configparser import ConfigParser\n",
    "# 讀取 .env 檔案取得資料庫連線資訊\n",
    "config = ConfigParser()\n",
    "config.read('../Chapter1/config.ini')\n",
    "\n",
    "connection = pymysql.connect(\n",
    "    host=config.get('DB', 'host'),\n",
    "    user=config.get('DB', 'user'),\n",
    "    password=config.get('DB', 'password'),\n",
    "    port=config.getint('DB', 'port'),\n",
    "    database=\"test_db\",\n",
    "    cursorclass=pymysql.cursors.DictCursor,\n",
    ")\n"
   ]
  },
  {
   "cell_type": "code",
   "execution_count": null,
   "id": "7ef56544",
   "metadata": {},
   "outputs": [
    {
     "name": "stdout",
     "output_type": "stream",
     "text": [
      "{'id': 1, 'name': 'John Doe', 'age': 30, 'username': 'test_user', 'password': 'test_password'}\n",
      "{'id': 2, 'name': 'user_0', 'age': 35, 'username': 'user_0', 'password': 'password_4694'}\n",
      "{'id': 3, 'name': 'user_1', 'age': 57, 'username': 'user_1', 'password': 'password_2948'}\n",
      "{'id': 4, 'name': 'user_2', 'age': 31, 'username': 'user_2', 'password': 'password_2575'}\n",
      "{'id': 5, 'name': 'user_3', 'age': 22, 'username': 'user_3', 'password': 'password_5223'}\n",
      "{'id': 6, 'name': 'user_4', 'age': 48, 'username': 'user_4', 'password': 'password_5346'}\n",
      "{'id': 7, 'name': 'user_5', 'age': 61, 'username': 'user_5', 'password': 'password_3819'}\n",
      "{'id': 8, 'name': 'user_6', 'age': 29, 'username': 'user_6', 'password': 'password_7253'}\n",
      "{'id': 9, 'name': 'user_7', 'age': 21, 'username': 'user_7', 'password': 'password_4425'}\n",
      "{'id': 10, 'name': 'user_8', 'age': 63, 'username': 'user_8', 'password': 'password_5378'}\n",
      "{'id': 11, 'name': 'user_9', 'age': 29, 'username': 'user_9', 'password': 'password_8620'}\n",
      "{'id': 16, 'name': 'Jarvis', 'age': 25, 'username': 'jarvis', 'password': '123456'}\n",
      "{'id': 17, 'name': 'Jarvis', 'age': 25, 'username': 'jarvis', 'password': '123456'}\n"
     ]
    }
   ],
   "source": [
    "import random\n",
    "with connection.cursor() as cursor:\n",
    "    sql = \"\"\"\n",
    "        INSERT INTO users (name, age, username, password)\n",
    "        VALUES (\"Jarvis\", 25, \"jarvis\", \"123456\")\n",
    "    \"\"\"\n",
    "    cursor.execute(sql)\n",
    "    print(cursor.rowcount) # 取得影響的行數\n",
    "\n",
    "    cursor.execute(\"SELECT * FROM users\")\n",
    "    result = cursor.fetchall()\n",
    "    for row in result:\n",
    "        print(row)\n",
    "\n",
    "    # connection.commit() # 提交資料庫變更"
   ]
  },
  {
   "cell_type": "code",
   "execution_count": 19,
   "id": "c418b4fe",
   "metadata": {},
   "outputs": [],
   "source": [
    "import random\n",
    "with connection.cursor() as cursor:\n",
    "    sql = \"\"\"\n",
    "        INSERT INTO users (name, age, username, password)\n",
    "        VALUES (%s, %s, %s, %s);\n",
    "    \"\"\"\n",
    "    for i in range(10):\n",
    "        # 隨機生成使用者名稱、年齡和密碼\n",
    "        user = f'user_{i}'\n",
    "        username = f'user_{i}'\n",
    "        age = random.randint(18, 65)\n",
    "        password = f'password_{random.randint(1000, 10000)}'\n",
    "        cursor.execute(sql, (user, age, username, password))\n",
    "    \n",
    "    connection.commit()"
   ]
  },
  {
   "cell_type": "code",
   "execution_count": 34,
   "id": "a226b419",
   "metadata": {},
   "outputs": [
    {
     "name": "stdout",
     "output_type": "stream",
     "text": [
      "{'id': 1, 'name': 'John Doe', 'age': 30, 'username': 'test_user', 'password': 'test_password'}\n",
      "{'id': 2, 'name': 'user_0', 'age': 35, 'username': 'user_0', 'password': 'password_4694'}\n",
      "{'id': 3, 'name': 'user_1', 'age': 57, 'username': 'user_1', 'password': 'password_2948'}\n",
      "{'id': 4, 'name': 'user_2', 'age': 31, 'username': 'user_2', 'password': 'password_2575'}\n",
      "{'id': 5, 'name': 'user_3', 'age': 22, 'username': 'user_3', 'password': 'password_5223'}\n",
      "{'id': 6, 'name': 'user_4', 'age': 48, 'username': 'user_4', 'password': 'password_5346'}\n",
      "{'id': 7, 'name': 'user_5', 'age': 61, 'username': 'user_5', 'password': 'password_3819'}\n",
      "{'id': 8, 'name': 'user_6', 'age': 29, 'username': 'user_6', 'password': 'password_7253'}\n",
      "{'id': 9, 'name': 'user_7', 'age': 21, 'username': 'user_7', 'password': 'password_4425'}\n",
      "{'id': 10, 'name': 'user_8', 'age': 63, 'username': 'user_8', 'password': 'password_5378'}\n",
      "{'id': 11, 'name': 'user_9', 'age': 29, 'username': 'user_9', 'password': 'password_8620'}\n",
      "{'id': 16, 'name': 'Jarvis', 'age': 25, 'username': 'jarvis', 'password': '123456'}\n"
     ]
    }
   ],
   "source": [
    "with connection.cursor() as cursor:\n",
    "    # 查詢所有使用者\n",
    "    sql = \"SELECT * FROM users;\"\n",
    "    cursor.execute(sql)\n",
    "    result = cursor.fetchall()\n",
    "    for row in result:\n",
    "        print(row)"
   ]
  },
  {
   "cell_type": "code",
   "execution_count": 23,
   "id": "659358ec",
   "metadata": {},
   "outputs": [
    {
     "name": "stdout",
     "output_type": "stream",
     "text": [
      "[{'id': 1, 'name': 'John Doe', 'age': 30, 'username': 'test_user', 'password': 'test_password'}, {'id': 2, 'name': 'user_0', 'age': 35, 'username': 'user_0', 'password': 'password_4694'}, {'id': 3, 'name': 'user_1', 'age': 57, 'username': 'user_1', 'password': 'password_2948'}, {'id': 4, 'name': 'user_2', 'age': 31, 'username': 'user_2', 'password': 'password_2575'}, {'id': 5, 'name': 'user_3', 'age': 22, 'username': 'user_3', 'password': 'password_5223'}, {'id': 6, 'name': 'user_4', 'age': 48, 'username': 'user_4', 'password': 'password_5346'}, {'id': 7, 'name': 'user_5', 'age': 61, 'username': 'user_5', 'password': 'password_3819'}, {'id': 8, 'name': 'user_6', 'age': 29, 'username': 'user_6', 'password': 'password_7253'}, {'id': 9, 'name': 'user_7', 'age': 21, 'username': 'user_7', 'password': 'password_4425'}, {'id': 10, 'name': 'user_8', 'age': 63, 'username': 'user_8', 'password': 'password_5378'}, {'id': 11, 'name': 'user_9', 'age': 29, 'username': 'user_9', 'password': 'password_8620'}]\n"
     ]
    }
   ],
   "source": [
    "# 使用 SQL Injection 攻擊，取得所有使用者的資料\n",
    "username = \"' OR 1=1; -- \"\n",
    "password = \"\"\n",
    "\n",
    "with connection.cursor() as cursor:\n",
    "    sql = f\"\"\"\n",
    "        SELECT * FROM users WHERE username = '{username}' AND password = '{password}'\n",
    "    \"\"\"\n",
    "    cursor.execute(sql)\n",
    "    result = cursor.fetchall()\n",
    "print(result)\n"
   ]
  },
  {
   "cell_type": "code",
   "execution_count": 26,
   "id": "3c125693",
   "metadata": {},
   "outputs": [
    {
     "name": "stdout",
     "output_type": "stream",
     "text": [
      "\n",
      "        SELECT * FROM users WHERE username = %s AND password = %s\n",
      "    \n",
      "()\n"
     ]
    }
   ],
   "source": [
    "# 使用 SQL Injection 攻擊，取得所有使用者的資料\n",
    "username = \"' OR 1=1; -- \"\n",
    "password = \"\"\n",
    "\n",
    "with connection.cursor() as cursor:\n",
    "    sql = \"\"\"\n",
    "        SELECT * FROM users WHERE username = %s AND password = %s\n",
    "    \"\"\"\n",
    "    print(sql)\n",
    "    cursor.execute(sql, (username, password))\n",
    "    result = cursor.fetchall()\n",
    "print(result)"
   ]
  }
 ],
 "metadata": {
  "kernelspec": {
   "display_name": "ispan_env",
   "language": "python",
   "name": "python3"
  },
  "language_info": {
   "codemirror_mode": {
    "name": "ipython",
    "version": 3
   },
   "file_extension": ".py",
   "mimetype": "text/x-python",
   "name": "python",
   "nbconvert_exporter": "python",
   "pygments_lexer": "ipython3",
   "version": "3.12.3"
  }
 },
 "nbformat": 4,
 "nbformat_minor": 5
}
