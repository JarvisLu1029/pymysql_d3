{
 "cells": [
  {
   "cell_type": "code",
   "execution_count": 5,
   "id": "5ca355c0",
   "metadata": {},
   "outputs": [
    {
     "name": "stdout",
     "output_type": "stream",
     "text": [
      "<Section: DB>\n",
      "localhost\n",
      "root\n"
     ]
    }
   ],
   "source": [
    "# 建立資料表\n",
    "from configparser import ConfigParser\n",
    "\n",
    "# 讀取 .env 檔案取得資料庫連線資訊\n",
    "config = ConfigParser()\n",
    "config.read('../Chapter1/config.ini')\n",
    "\n",
    "print(config['DB']) # 讀取 DB 區塊\n",
    "print(config['DB']['host']) # 讀取 host\n",
    "print(config['DB']['user']) # 讀取 user\n"
   ]
  }
 ],
 "metadata": {
  "kernelspec": {
   "display_name": "ispan_env",
   "language": "python",
   "name": "python3"
  },
  "language_info": {
   "codemirror_mode": {
    "name": "ipython",
    "version": 3
   },
   "file_extension": ".py",
   "mimetype": "text/x-python",
   "name": "python",
   "nbconvert_exporter": "python",
   "pygments_lexer": "ipython3",
   "version": "3.12.3"
  }
 },
 "nbformat": 4,
 "nbformat_minor": 5
}
