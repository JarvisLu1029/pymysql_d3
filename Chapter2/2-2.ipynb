{
 "cells": [
  {
   "cell_type": "code",
   "execution_count": 5,
   "id": "5ca355c0",
   "metadata": {},
   "outputs": [
    {
     "name": "stdout",
     "output_type": "stream",
     "text": [
      "<Section: DB>\n",
      "localhost\n",
      "root\n"
     ]
    }
   ],
   "source": [
    "# 建立資料表\n",
    "from configparser import ConfigParser\n",
    "\n",
    "# 讀取 .env 檔案取得資料庫連線資訊\n",
    "config = ConfigParser()\n",
    "config.read('../Chapter1/config.ini')\n",
    "\n",
    "connection = pymysql.connect(\n",
    "    host=config.get('DB', 'host'),\n",
    "    user=config.get('DB', 'user'),\n",
    "    password=config.get('DB', 'password'),\n",
    "    port=config.getint('DB', 'port'),\n",
    "    cursorclass=pymysql.cursors.DictCursor,\n",
    ")\n"
   ]
  },
  {
   "cell_type": "code",
   "execution_count": 1,
   "id": "7b57e669",
   "metadata": {},
   "outputs": [
    {
     "name": "stdout",
     "output_type": "stream",
     "text": [
      "[{'last_login': datetime.datetime(2025, 2, 19, 15, 43, 0, 610623), 'id': 2, 'username': 'jarvis_lu', 'password': 'pbkdf2_sha256$870000$uAoTfP8sIrMkr3Zy1PBpCr$UBSXjM2j0FLvGrK2nMQT5aSCfBiQwALVbkcpH01LsV8=', 'ch_name': '', 'name': 'Jarvis Lu', 'gender': None, 'birthday': None, 'phone': '', 'address': '', 'department': 'BioInf/IT', 'email': 'jarvis_lu@mail.asiamedcom.com', 'status': 'Active', 'work_area': None, 'work_address': None, 'work_type': None, 'work_start_time': None, 'work_end_time': None, 'work_title': None, 'created_at': datetime.datetime(2025, 2, 4, 16, 2, 28, 158471), 'last_activity': datetime.datetime(2025, 2, 19, 15, 43, 0, 905182), 'start_date': None, 'paid_time_off': -1.0, 'compensatory_time': 3.5, 'role_id': '4'}]\n"
     ]
    }
   ],
   "source": [
    "from sql_utils import search_user_by_name\n",
    "\n",
    "user = search_user_by_name('Jarvis Lu')\n",
    "print(user)\n"
   ]
  }
 ],
 "metadata": {
  "kernelspec": {
   "display_name": "ispan_env",
   "language": "python",
   "name": "python3"
  },
  "language_info": {
   "codemirror_mode": {
    "name": "ipython",
    "version": 3
   },
   "file_extension": ".py",
   "mimetype": "text/x-python",
   "name": "python",
   "nbconvert_exporter": "python",
   "pygments_lexer": "ipython3",
   "version": "3.12.3"
  }
 },
 "nbformat": 4,
 "nbformat_minor": 5
}
