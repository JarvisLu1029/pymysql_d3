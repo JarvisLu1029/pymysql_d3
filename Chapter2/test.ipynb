{
 "cells": [
  {
   "cell_type": "code",
   "execution_count": null,
   "id": "9330f24d",
   "metadata": {},
   "outputs": [],
   "source": [
    "import hashlib\n",
    "password = 'password'\n",
    "c_hash = hashlib.sha256(password.encode()).hexdigest()\n",
    "print(c_hash)\n",
    "\n",
    "a_hssh = hashlib.sha256(b'123456').hexdigest()\n",
    "print(a_hssh)\n",
    "\n",
    "b_hash = hashlib.sha256(b'password').hexdigest()\n",
    "print(b_hash)"
   ]
  },
  {
   "cell_type": "code",
   "execution_count": null,
   "id": "e0269a9d",
   "metadata": {},
   "outputs": [],
   "source": [
    "import pymysql\n",
    "from configparser import ConfigParser\n",
    "\n",
    "config = ConfigParser()\n",
    "config.read('../Chapter1/config.ini')\n",
    "\n",
    "print(dict(config['DB']))\n",
    "\n",
    "connection = pymysql.connect(\n",
    "    **config['DB'],\n",
    "    port=config.getint('DB', 'port'),\n",
    "    cursorclass=pymysql.cursors.DictCursor,\n",
    ")"
   ]
  }
 ],
 "metadata": {
  "language_info": {
   "name": "python"
  }
 },
 "nbformat": 4,
 "nbformat_minor": 5
}
