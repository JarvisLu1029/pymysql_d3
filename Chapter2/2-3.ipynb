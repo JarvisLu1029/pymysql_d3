{
 "cells": [
  {
   "cell_type": "code",
   "execution_count": null,
   "id": "5b746aa7",
   "metadata": {},
   "outputs": [],
   "source": [
    "import pymysql\n",
    "from configparser import ConfigParser\n",
    "\n",
    "config = ConfigParser()\n",
    "config.read('../Chapter1/config.ini')\n",
    "\n",
    "connection = pymysql.connect(\n",
    "    host=config.get('DB', 'host'),\n",
    "    user=config.get('DB', 'user'),\n",
    "    password=config.get('DB', 'password'),\n",
    "    port=config.getint('DB', 'port'),\n",
    "    cursorclass=pymysql.cursors.DictCursor,\n",
    "    db='chapter2',\n",
    ")\n",
    "\n",
    "with connection.cursor() as cursor:\n",
    "    sql = \"\"\"\n",
    "    SELECT * FROM user;\n",
    "    \"\"\"\n",
    "    cursor.execute(sql)\n",
    "    result = cursor.fetchall()\n",
    "\n",
    "print(result)"
   ]
  },
  {
   "cell_type": "code",
   "execution_count": null,
   "id": "a27b9987",
   "metadata": {},
   "outputs": [],
   "source": [
    "%%time\n",
    "from sql_utils import insert_user\n",
    "\n",
    "# 使用 function 寫入多個使用者\n",
    "\n"
   ]
  },
  {
   "cell_type": "markdown",
   "id": "795d7cc3",
   "metadata": {},
   "source": [
    "`executemany(sql, list)`"
   ]
  },
  {
   "cell_type": "code",
   "execution_count": null,
   "id": "aec10006",
   "metadata": {},
   "outputs": [],
   "source": [
    "%%time\n",
    "\n",
    "# 產生以下資料\n",
    "\"\"\"\n",
    "[('user_101', 121, 'user_101', 'password_101'), ('user_102', 122, 'user_102', 'password_102'), ...]\n",
    "\"\"\"\n",
    "\n",
    "# 使用 executemany() 批次新增資料\n"
   ]
  }
 ],
 "metadata": {
  "kernelspec": {
   "display_name": "base",
   "language": "python",
   "name": "python3"
  },
  "language_info": {
   "codemirror_mode": {
    "name": "ipython",
    "version": 3
   },
   "file_extension": ".py",
   "mimetype": "text/x-python",
   "name": "python",
   "nbconvert_exporter": "python",
   "pygments_lexer": "ipython3",
   "version": "3.9.12"
  }
 },
 "nbformat": 4,
 "nbformat_minor": 5
}
