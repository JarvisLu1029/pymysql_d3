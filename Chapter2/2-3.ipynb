{
 "cells": [
  {
   "cell_type": "code",
   "execution_count": 1,
   "id": "5b746aa7",
   "metadata": {},
   "outputs": [
    {
     "name": "stdout",
     "output_type": "stream",
     "text": [
      "()\n"
     ]
    }
   ],
   "source": [
    "import pymysql\n",
    "from configparser import ConfigParser\n",
    "\n",
    "config = ConfigParser()\n",
    "config.read('../Chapter1/config.ini')\n",
    "\n",
    "connection = pymysql.connect(\n",
    "    host=config.get('DB', 'host'),\n",
    "    user=config.get('DB', 'user'),\n",
    "    password=config.get('DB', 'password'),\n",
    "    port=config.getint('DB', 'port'),\n",
    "    cursorclass=pymysql.cursors.DictCursor,\n",
    "    db='chapter2',\n",
    ")\n",
    "\n",
    "with connection.cursor() as cursor:\n",
    "    sql = \"\"\"\n",
    "    SELECT * FROM user;\n",
    "    \"\"\"\n",
    "    cursor.execute(sql)\n",
    "    result = cursor.fetchall()\n",
    "\n",
    "print(result)"
   ]
  },
  {
   "cell_type": "code",
   "execution_count": null,
   "id": "a27b9987",
   "metadata": {},
   "outputs": [
    {
     "name": "stdout",
     "output_type": "stream",
     "text": [
      "CPU times: total: 93.8 ms\n",
      "Wall time: 330 ms\n"
     ]
    }
   ],
   "source": [
    "%%time\n",
    "from sql_utils import insert_user\n",
    "\n",
    "for i in range(100):\n",
    "    insert_user(\n",
    "        name=f'user_{i}',\n",
    "        age=i + 20,\n",
    "        username=f'user_{i}',\n",
    "        password=f'password_{i}',\n",
    "    )"
   ]
  },
  {
   "cell_type": "code",
   "execution_count": 8,
   "id": "0d12e23c",
   "metadata": {},
   "outputs": [
    {
     "name": "stdout",
     "output_type": "stream",
     "text": [
      "[('user_101', 121, 'user_101', 'password_101'), ('user_102', 122, 'user_102', 'password_102'), ('user_103', 123, 'user_103', 'password_103'), ('user_104', 124, 'user_104', 'password_104'), ('user_105', 125, 'user_105', 'password_105'), ('user_106', 126, 'user_106', 'password_106'), ('user_107', 127, 'user_107', 'password_107'), ('user_108', 128, 'user_108', 'password_108'), ('user_109', 129, 'user_109', 'password_109'), ('user_110', 130, 'user_110', 'password_110'), ('user_111', 131, 'user_111', 'password_111'), ('user_112', 132, 'user_112', 'password_112'), ('user_113', 133, 'user_113', 'password_113'), ('user_114', 134, 'user_114', 'password_114'), ('user_115', 135, 'user_115', 'password_115'), ('user_116', 136, 'user_116', 'password_116'), ('user_117', 137, 'user_117', 'password_117'), ('user_118', 138, 'user_118', 'password_118'), ('user_119', 139, 'user_119', 'password_119'), ('user_120', 140, 'user_120', 'password_120'), ('user_121', 141, 'user_121', 'password_121'), ('user_122', 142, 'user_122', 'password_122'), ('user_123', 143, 'user_123', 'password_123'), ('user_124', 144, 'user_124', 'password_124'), ('user_125', 145, 'user_125', 'password_125'), ('user_126', 146, 'user_126', 'password_126'), ('user_127', 147, 'user_127', 'password_127'), ('user_128', 148, 'user_128', 'password_128'), ('user_129', 149, 'user_129', 'password_129'), ('user_130', 150, 'user_130', 'password_130'), ('user_131', 151, 'user_131', 'password_131'), ('user_132', 152, 'user_132', 'password_132'), ('user_133', 153, 'user_133', 'password_133'), ('user_134', 154, 'user_134', 'password_134'), ('user_135', 155, 'user_135', 'password_135'), ('user_136', 156, 'user_136', 'password_136'), ('user_137', 157, 'user_137', 'password_137'), ('user_138', 158, 'user_138', 'password_138'), ('user_139', 159, 'user_139', 'password_139'), ('user_140', 160, 'user_140', 'password_140'), ('user_141', 161, 'user_141', 'password_141'), ('user_142', 162, 'user_142', 'password_142'), ('user_143', 163, 'user_143', 'password_143'), ('user_144', 164, 'user_144', 'password_144'), ('user_145', 165, 'user_145', 'password_145'), ('user_146', 166, 'user_146', 'password_146'), ('user_147', 167, 'user_147', 'password_147'), ('user_148', 168, 'user_148', 'password_148'), ('user_149', 169, 'user_149', 'password_149'), ('user_150', 170, 'user_150', 'password_150'), ('user_151', 171, 'user_151', 'password_151'), ('user_152', 172, 'user_152', 'password_152'), ('user_153', 173, 'user_153', 'password_153'), ('user_154', 174, 'user_154', 'password_154'), ('user_155', 175, 'user_155', 'password_155'), ('user_156', 176, 'user_156', 'password_156'), ('user_157', 177, 'user_157', 'password_157'), ('user_158', 178, 'user_158', 'password_158'), ('user_159', 179, 'user_159', 'password_159'), ('user_160', 180, 'user_160', 'password_160'), ('user_161', 181, 'user_161', 'password_161'), ('user_162', 182, 'user_162', 'password_162'), ('user_163', 183, 'user_163', 'password_163'), ('user_164', 184, 'user_164', 'password_164'), ('user_165', 185, 'user_165', 'password_165'), ('user_166', 186, 'user_166', 'password_166'), ('user_167', 187, 'user_167', 'password_167'), ('user_168', 188, 'user_168', 'password_168'), ('user_169', 189, 'user_169', 'password_169'), ('user_170', 190, 'user_170', 'password_170'), ('user_171', 191, 'user_171', 'password_171'), ('user_172', 192, 'user_172', 'password_172'), ('user_173', 193, 'user_173', 'password_173'), ('user_174', 194, 'user_174', 'password_174'), ('user_175', 195, 'user_175', 'password_175'), ('user_176', 196, 'user_176', 'password_176'), ('user_177', 197, 'user_177', 'password_177'), ('user_178', 198, 'user_178', 'password_178'), ('user_179', 199, 'user_179', 'password_179'), ('user_180', 200, 'user_180', 'password_180'), ('user_181', 201, 'user_181', 'password_181'), ('user_182', 202, 'user_182', 'password_182'), ('user_183', 203, 'user_183', 'password_183'), ('user_184', 204, 'user_184', 'password_184'), ('user_185', 205, 'user_185', 'password_185'), ('user_186', 206, 'user_186', 'password_186'), ('user_187', 207, 'user_187', 'password_187'), ('user_188', 208, 'user_188', 'password_188'), ('user_189', 209, 'user_189', 'password_189'), ('user_190', 210, 'user_190', 'password_190'), ('user_191', 211, 'user_191', 'password_191'), ('user_192', 212, 'user_192', 'password_192'), ('user_193', 213, 'user_193', 'password_193'), ('user_194', 214, 'user_194', 'password_194'), ('user_195', 215, 'user_195', 'password_195'), ('user_196', 216, 'user_196', 'password_196'), ('user_197', 217, 'user_197', 'password_197'), ('user_198', 218, 'user_198', 'password_198'), ('user_199', 219, 'user_199', 'password_199'), ('user_200', 220, 'user_200', 'password_200')]\n"
     ]
    }
   ],
   "source": [
    "users_list = []\n",
    "for i in range(101, 201):\n",
    "    users_list.append(\n",
    "        (f'user_{i}', i + 20, f'user_{i}', f'password_{i}')\n",
    "    )\n",
    "print(users_list)"
   ]
  },
  {
   "cell_type": "code",
   "execution_count": null,
   "id": "aec10006",
   "metadata": {},
   "outputs": [
    {
     "name": "stdout",
     "output_type": "stream",
     "text": [
      "CPU times: total: 0 ns\n",
      "Wall time: 3.89 ms\n"
     ]
    }
   ],
   "source": [
    "%%time\n",
    "users_list = []\n",
    "for i in range(101, 201):\n",
    "    users_list.append(\n",
    "        (f'user_{i}', i + 20, f'user_{i}', f'password_{i}')\n",
    "    )\n",
    "    # [('user_101', 121, 'user_101', 'password_101'), ('user_102', 122, 'user_102', 'password_102'), ...]\n",
    "\n",
    "with connection.cursor() as cursor:\n",
    "    sql = \"\"\"\n",
    "    INSERT INTO user (name, age, username, password)\n",
    "    VALUES (%s, %s, %s, %s);\n",
    "    \"\"\"\n",
    "    cursor.executemany(sql, users_list)\n",
    "    connection.commit()\n"
   ]
  }
 ],
 "metadata": {
  "kernelspec": {
   "display_name": "base",
   "language": "python",
   "name": "python3"
  },
  "language_info": {
   "codemirror_mode": {
    "name": "ipython",
    "version": 3
   },
   "file_extension": ".py",
   "mimetype": "text/x-python",
   "name": "python",
   "nbconvert_exporter": "python",
   "pygments_lexer": "ipython3",
   "version": "3.9.12"
  }
 },
 "nbformat": 4,
 "nbformat_minor": 5
}
