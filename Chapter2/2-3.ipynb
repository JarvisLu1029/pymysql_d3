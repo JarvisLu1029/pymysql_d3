{
 "cells": [
  {
   "cell_type": "code",
   "execution_count": 5,
   "id": "0a05ed73",
   "metadata": {},
   "outputs": [
    {
     "name": "stdout",
     "output_type": "stream",
     "text": [
      "2025-05-19 16:29:57.414090\n",
      "2025-05-19 16:29:57\n",
      "民國114年5月19日\n"
     ]
    }
   ],
   "source": [
    "from datetime import datetime\n",
    "\n",
    "# 取得當前時間\n",
    "print(datetime.now()) # 2025-05-19 16:11:15.427674\n",
    "\n",
    "# 輸出成指定格式\n",
    "print(datetime.now().strftime('%Y-%m-%d %H:%M:%S')) # 2025-05-19 16:11:15\n",
    "\n",
    "# 取得民國年\n",
    "now = datetime.now()\n",
    "print(f\"民國{now.year - 1911}年{now.month}月{now.day}日\") # 114年5月19日"
   ]
  },
  {
   "cell_type": "code",
   "execution_count": 2,
   "id": "e19310f6",
   "metadata": {},
   "outputs": [
    {
     "name": "stdout",
     "output_type": "stream",
     "text": [
      "2025-05-19 16:11:15\n"
     ]
    }
   ],
   "source": [
    "# 將指定格式的字串轉換成 datetime 物件\n",
    "data_time = '2025/05/19 16-11-15'\n",
    "# 轉換成 datetime 物件\n",
    "data_time = datetime.strptime(data_time, '%Y/%m/%d %H-%M-%S')\n",
    "print(data_time) # 2025-05-19 16:11:15"
   ]
  },
  {
   "cell_type": "code",
   "execution_count": 6,
   "id": "2a5ac6d3",
   "metadata": {},
   "outputs": [
    {
     "name": "stdout",
     "output_type": "stream",
     "text": [
      "2025-05-18 17:10:18.305214\n"
     ]
    }
   ],
   "source": [
    "from datetime import timedelta\n",
    "# 取得前一天日期\n",
    "yesterday = datetime.now() - timedelta(days=1)\n",
    "print(yesterday) # 2025-05-18 16:11:15.427674"
   ]
  },
  {
   "cell_type": "code",
   "execution_count": 3,
   "id": "a6ceee29",
   "metadata": {},
   "outputs": [
    {
     "name": "stdout",
     "output_type": "stream",
     "text": [
      "2025-05-19 16:11:15\n"
     ]
    }
   ],
   "source": [
    "# ISO format\n",
    "iso_datetime = '2025-05-19T16:11:15'\n",
    "# 轉換成 datetime 物件\n",
    "iso_datetime = datetime.fromisoformat(iso_datetime)\n",
    "print(iso_datetime) # 2025-05-19 16:11:15"
   ]
  }
 ],
 "metadata": {
  "kernelspec": {
   "display_name": "ispan_env",
   "language": "python",
   "name": "python3"
  },
  "language_info": {
   "codemirror_mode": {
    "name": "ipython",
    "version": 3
   },
   "file_extension": ".py",
   "mimetype": "text/x-python",
   "name": "python",
   "nbconvert_exporter": "python",
   "pygments_lexer": "ipython3",
   "version": "3.12.3"
  }
 },
 "nbformat": 4,
 "nbformat_minor": 5
}
