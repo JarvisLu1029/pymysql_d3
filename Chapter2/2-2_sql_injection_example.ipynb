{
 "cells": [
  {
   "cell_type": "code",
   "execution_count": null,
   "id": "f96b2655",
   "metadata": {},
   "outputs": [],
   "source": [
    "import pymysql\n",
    "from configparser import ConfigParser\n",
    "# 讀取 .env 檔案取得資料庫連線資訊\n",
    "config = ConfigParser()\n",
    "config.read('../Chapter1/config.ini')\n",
    "\n",
    "connection = pymysql.connect(\n",
    "    host=config.get('DB', 'host'),\n",
    "    user=config.get('DB', 'user'),\n",
    "    password=config.get('DB', 'password'),\n",
    "    port=config.getint('DB', 'port'),\n",
    "    database=\"test_db\",\n",
    "    cursorclass=pymysql.cursors.DictCursor,\n",
    ")\n",
    "\n",
    "with connection.cursor() as cursor:\n",
    "    sql = \"\"\"\n",
    "        CREATE TABLE IF NOT EXISTS user (\n",
    "            id INT AUTO_INCREMENT PRIMARY KEY,\n",
    "            name VARCHAR(255) NOT NULL,\n",
    "            age INT NOT NULL,\n",
    "            username VARCHAR(255) NOT NULL,\n",
    "            password VARCHAR(255) NOT NULL\n",
    "        );\n",
    "    \"\"\"\n",
    "    cursor.execute(sql)\n",
    "    cursor.execute(\"SHOW TABLES;\")\n",
    "    result = cursor.fetchall()\n",
    "\n",
    "print(result)"
   ]
  },
  {
   "cell_type": "code",
   "execution_count": null,
   "id": "7ef56544",
   "metadata": {},
   "outputs": [],
   "source": [
    "with connection.cursor() as cursor:\n",
    "    sql = \"\"\"\n",
    "        INSERT INTO users (name, age, username, password)\n",
    "        VALUES (\"Jarvis\", 25, \"jarvis\", \"123456\")\n",
    "    \"\"\"\n",
    "    cursor.execute(sql)\n",
    "\n",
    "    cursor.execute(\"SELECT * FROM users\")\n",
    "    result = cursor.fetchall()\n",
    "    for row in result:\n",
    "        print(row)\n"
   ]
  },
  {
   "cell_type": "code",
   "execution_count": null,
   "id": "f4228467",
   "metadata": {},
   "outputs": [],
   "source": [
    "connection.commit() # 提交資料庫變更"
   ]
  },
  {
   "cell_type": "code",
   "execution_count": null,
   "id": "c418b4fe",
   "metadata": {},
   "outputs": [],
   "source": [
    "import random\n",
    "with connection.cursor() as cursor:\n",
    "    sql = \"\"\"\n",
    "        INSERT INTO users (name, age, username, password)\n",
    "        VALUES (%s, %s, %s, %s);\n",
    "    \"\"\"\n",
    "    for i in range(10):\n",
    "        # 隨機生成使用者名稱、年齡和密碼\n",
    "    \n"
   ]
  },
  {
   "cell_type": "code",
   "execution_count": null,
   "id": "a226b419",
   "metadata": {},
   "outputs": [],
   "source": [
    "with connection.cursor() as cursor:\n",
    "    # 查詢所有使用者\n",
    "    sql = \"SELECT * FROM users;\"\n",
    "    cursor.execute(sql)\n",
    "    result = cursor.fetchall()\n",
    "    for row in result:\n",
    "        print(row)"
   ]
  },
  {
   "cell_type": "code",
   "execution_count": null,
   "id": "659358ec",
   "metadata": {},
   "outputs": [],
   "source": [
    "# 使用 SQL Injection 攻擊，取得所有使用者的資料\n",
    "username = \"' OR 1=1; -- \"\n",
    "password = \"\"\n",
    "\n",
    "with connection.cursor() as cursor:\n",
    "    sql = f\"\"\"\n",
    "        SELECT * FROM users WHERE username = '{username}' AND password = '{password}'\n",
    "    \"\"\"\n",
    "    print(sql)\n",
    "    cursor.execute(sql)\n",
    "    result = cursor.fetchall()\n",
    "print(result)\n"
   ]
  },
  {
   "cell_type": "code",
   "execution_count": null,
   "id": "3c125693",
   "metadata": {},
   "outputs": [],
   "source": [
    "# 使用 SQL Injection 攻擊，取得所有使用者的資料\n",
    "username = \"' OR 1=1; -- \"\n",
    "password = \"\"\n",
    "\n",
    "with connection.cursor() as cursor:\n",
    "    sql = \"\"\"\n",
    "        SELECT * FROM users WHERE username = %s AND password = %s\n",
    "    \"\"\"\n",
    "    print(sql)\n",
    "    cursor.execute(sql, (username, password))\n",
    "    result = cursor.fetchall()\n",
    "print(result)"
   ]
  }
 ],
 "metadata": {
  "kernelspec": {
   "display_name": "ispan_env",
   "language": "python",
   "name": "python3"
  },
  "language_info": {
   "codemirror_mode": {
    "name": "ipython",
    "version": 3
   },
   "file_extension": ".py",
   "mimetype": "text/x-python",
   "name": "python",
   "nbconvert_exporter": "python",
   "pygments_lexer": "ipython3",
   "version": "3.12.3"
  }
 },
 "nbformat": 4,
 "nbformat_minor": 5
}
