{
 "cells": [
  {
   "cell_type": "code",
   "execution_count": 1,
   "id": "f96b2655",
   "metadata": {},
   "outputs": [],
   "source": [
    "import pymysql\n",
    "from configparser import ConfigParser\n",
    "# 讀取 .env 檔案取得資料庫連線資訊\n",
    "config = ConfigParser()\n",
    "config.read('../Chapter1/config.ini')\n",
    "\n",
    "connection = pymysql.connect(\n",
    "    host=config.get('DB', 'host'),\n",
    "    user=config.get('DB', 'user'),\n",
    "    password=config.get('DB', 'password'),\n",
    "    port=config.getint('DB', 'port'),\n",
    "    database=\"test_db\",\n",
    "    cursorclass=pymysql.cursors.DictCursor,\n",
    ")\n"
   ]
  },
  {
   "cell_type": "code",
   "execution_count": 2,
   "id": "7ef56544",
   "metadata": {},
   "outputs": [
    {
     "name": "stdout",
     "output_type": "stream",
     "text": [
      "{'id': 1, 'name': 'John Doe', 'age': 30, 'username': 'test_user', 'password': 'test_password'}\n",
      "{'id': 2, 'name': 'user_0', 'age': 35, 'username': 'user_0', 'password': 'password_4694'}\n",
      "{'id': 3, 'name': 'user_1', 'age': 57, 'username': 'user_1', 'password': 'password_2948'}\n",
      "{'id': 4, 'name': 'user_2', 'age': 31, 'username': 'user_2', 'password': 'password_2575'}\n",
      "{'id': 5, 'name': 'user_3', 'age': 22, 'username': 'user_3', 'password': 'password_5223'}\n",
      "{'id': 6, 'name': 'user_4', 'age': 48, 'username': 'user_4', 'password': 'password_5346'}\n",
      "{'id': 7, 'name': 'user_5', 'age': 61, 'username': 'user_5', 'password': 'password_3819'}\n",
      "{'id': 8, 'name': 'user_6', 'age': 29, 'username': 'user_6', 'password': 'password_7253'}\n",
      "{'id': 9, 'name': 'user_7', 'age': 21, 'username': 'user_7', 'password': 'password_4425'}\n",
      "{'id': 10, 'name': 'user_8', 'age': 63, 'username': 'user_8', 'password': 'password_5378'}\n",
      "{'id': 11, 'name': 'user_9', 'age': 29, 'username': 'user_9', 'password': 'password_8620'}\n",
      "{'id': 16, 'name': 'Jarvis', 'age': 25, 'username': 'jarvis', 'password': '123456'}\n",
      "{'id': 17, 'name': 'Jarvis', 'age': 25, 'username': 'jarvis', 'password': '123456'}\n"
     ]
    }
   ],
   "source": [
    "import random\n",
    "with connection.cursor() as cursor:\n",
    "    sql = \"\"\"\n",
    "        INSERT INTO users (name, age, username, password)\n",
    "        VALUES (\"Jarvis\", 25, \"jarvis\", \"123456\")\n",
    "    \"\"\"\n",
    "    cursor.execute(sql)\n",
    "    print(cursor.rowcount) # 取得影響的行數\n",
    "\n",
    "    cursor.execute(\"SELECT * FROM users\")\n",
    "    result = cursor.fetchall()\n",
    "    for row in result:\n",
    "        print(row)\n",
    "\n",
    "    # connection.commit() # 提交資料庫變更"
   ]
  },
  {
   "cell_type": "code",
   "execution_count": 19,
   "id": "c418b4fe",
   "metadata": {},
   "outputs": [],
   "source": [
    "import random\n",
    "with connection.cursor() as cursor:\n",
    "    sql = \"\"\"\n",
    "        INSERT INTO users (name, age, username, password)\n",
    "        VALUES (%s, %s, %s, %s);\n",
    "    \"\"\"\n",
    "    for i in range(10):\n",
    "        # 隨機生成使用者名稱、年齡和密碼\n",
    "        user = f'user_{i}'\n",
    "        username = f'user_{i}'\n",
    "        age = random.randint(18, 65)\n",
    "        password = f'password_{random.randint(1000, 10000)}'\n",
    "        cursor.execute(sql, (user, age, username, password))\n",
    "    \n",
    "    connection.commit()"
   ]
  },
  {
   "cell_type": "code",
   "execution_count": 34,
   "id": "a226b419",
   "metadata": {},
   "outputs": [
    {
     "name": "stdout",
     "output_type": "stream",
     "text": [
      "{'id': 1, 'name': 'John Doe', 'age': 30, 'username': 'test_user', 'password': 'test_password'}\n",
      "{'id': 2, 'name': 'user_0', 'age': 35, 'username': 'user_0', 'password': 'password_4694'}\n",
      "{'id': 3, 'name': 'user_1', 'age': 57, 'username': 'user_1', 'password': 'password_2948'}\n",
      "{'id': 4, 'name': 'user_2', 'age': 31, 'username': 'user_2', 'password': 'password_2575'}\n",
      "{'id': 5, 'name': 'user_3', 'age': 22, 'username': 'user_3', 'password': 'password_5223'}\n",
      "{'id': 6, 'name': 'user_4', 'age': 48, 'username': 'user_4', 'password': 'password_5346'}\n",
      "{'id': 7, 'name': 'user_5', 'age': 61, 'username': 'user_5', 'password': 'password_3819'}\n",
      "{'id': 8, 'name': 'user_6', 'age': 29, 'username': 'user_6', 'password': 'password_7253'}\n",
      "{'id': 9, 'name': 'user_7', 'age': 21, 'username': 'user_7', 'password': 'password_4425'}\n",
      "{'id': 10, 'name': 'user_8', 'age': 63, 'username': 'user_8', 'password': 'password_5378'}\n",
      "{'id': 11, 'name': 'user_9', 'age': 29, 'username': 'user_9', 'password': 'password_8620'}\n",
      "{'id': 16, 'name': 'Jarvis', 'age': 25, 'username': 'jarvis', 'password': '123456'}\n"
     ]
    }
   ],
   "source": [
    "with connection.cursor() as cursor:\n",
    "    # 查詢所有使用者\n",
    "    sql = \"SELECT * FROM users;\"\n",
    "    cursor.execute(sql)\n",
    "    result = cursor.fetchall()\n",
    "    for row in result:\n",
    "        print(row)"
   ]
  },
  {
   "cell_type": "code",
   "execution_count": 3,
   "id": "659358ec",
   "metadata": {},
   "outputs": [
    {
     "name": "stdout",
     "output_type": "stream",
     "text": [
      "\n",
      "        SELECT * FROM users WHERE username = '' OR 1=1; -- ' AND password = ''\n",
      "    \n"
     ]
    },
    {
     "ename": "OperationalError",
     "evalue": "(2006, \"MySQL server has gone away (ConnectionAbortedError(10053, '連線已被您主機上的軟體中止。', None, 10053, None))\")",
     "output_type": "error",
     "traceback": [
      "\u001b[31m---------------------------------------------------------------------------\u001b[39m",
      "\u001b[31mConnectionAbortedError\u001b[39m                    Traceback (most recent call last)",
      "\u001b[36mFile \u001b[39m\u001b[32mc:\\Users\\jarvis_lu\\Documents\\course\\iSpan\\ispan_env\\Lib\\site-packages\\pymysql\\connections.py:806\u001b[39m, in \u001b[36mConnection._write_bytes\u001b[39m\u001b[34m(self, data)\u001b[39m\n\u001b[32m    805\u001b[39m \u001b[38;5;28;01mtry\u001b[39;00m:\n\u001b[32m--> \u001b[39m\u001b[32m806\u001b[39m     \u001b[38;5;28;43mself\u001b[39;49m\u001b[43m.\u001b[49m\u001b[43m_sock\u001b[49m\u001b[43m.\u001b[49m\u001b[43msendall\u001b[49m\u001b[43m(\u001b[49m\u001b[43mdata\u001b[49m\u001b[43m)\u001b[49m\n\u001b[32m    807\u001b[39m \u001b[38;5;28;01mexcept\u001b[39;00m \u001b[38;5;167;01mOSError\u001b[39;00m \u001b[38;5;28;01mas\u001b[39;00m e:\n",
      "\u001b[31mConnectionAbortedError\u001b[39m: [WinError 10053] 連線已被您主機上的軟體中止。",
      "\nDuring handling of the above exception, another exception occurred:\n",
      "\u001b[31mOperationalError\u001b[39m                          Traceback (most recent call last)",
      "\u001b[36mCell\u001b[39m\u001b[36m \u001b[39m\u001b[32mIn[3]\u001b[39m\u001b[32m, line 10\u001b[39m\n\u001b[32m      6\u001b[39m     sql = \u001b[33mf\u001b[39m\u001b[33m\"\"\"\u001b[39m\n\u001b[32m      7\u001b[39m \u001b[33m        SELECT * FROM users WHERE username = \u001b[39m\u001b[33m'\u001b[39m\u001b[38;5;132;01m{\u001b[39;00musername\u001b[38;5;132;01m}\u001b[39;00m\u001b[33m'\u001b[39m\u001b[33m AND password = \u001b[39m\u001b[33m'\u001b[39m\u001b[38;5;132;01m{\u001b[39;00mpassword\u001b[38;5;132;01m}\u001b[39;00m\u001b[33m'\u001b[39m\n\u001b[32m      8\u001b[39m \u001b[33m    \u001b[39m\u001b[33m\"\"\"\u001b[39m\n\u001b[32m      9\u001b[39m     \u001b[38;5;28mprint\u001b[39m(sql)\n\u001b[32m---> \u001b[39m\u001b[32m10\u001b[39m     \u001b[43mcursor\u001b[49m\u001b[43m.\u001b[49m\u001b[43mexecute\u001b[49m\u001b[43m(\u001b[49m\u001b[43msql\u001b[49m\u001b[43m)\u001b[49m\n\u001b[32m     11\u001b[39m     result = cursor.fetchall()\n\u001b[32m     12\u001b[39m \u001b[38;5;28mprint\u001b[39m(result)\n",
      "\u001b[36mFile \u001b[39m\u001b[32mc:\\Users\\jarvis_lu\\Documents\\course\\iSpan\\ispan_env\\Lib\\site-packages\\pymysql\\cursors.py:153\u001b[39m, in \u001b[36mCursor.execute\u001b[39m\u001b[34m(self, query, args)\u001b[39m\n\u001b[32m    149\u001b[39m     \u001b[38;5;28;01mpass\u001b[39;00m\n\u001b[32m    151\u001b[39m query = \u001b[38;5;28mself\u001b[39m.mogrify(query, args)\n\u001b[32m--> \u001b[39m\u001b[32m153\u001b[39m result = \u001b[38;5;28;43mself\u001b[39;49m\u001b[43m.\u001b[49m\u001b[43m_query\u001b[49m\u001b[43m(\u001b[49m\u001b[43mquery\u001b[49m\u001b[43m)\u001b[49m\n\u001b[32m    154\u001b[39m \u001b[38;5;28mself\u001b[39m._executed = query\n\u001b[32m    155\u001b[39m \u001b[38;5;28;01mreturn\u001b[39;00m result\n",
      "\u001b[36mFile \u001b[39m\u001b[32mc:\\Users\\jarvis_lu\\Documents\\course\\iSpan\\ispan_env\\Lib\\site-packages\\pymysql\\cursors.py:322\u001b[39m, in \u001b[36mCursor._query\u001b[39m\u001b[34m(self, q)\u001b[39m\n\u001b[32m    320\u001b[39m conn = \u001b[38;5;28mself\u001b[39m._get_db()\n\u001b[32m    321\u001b[39m \u001b[38;5;28mself\u001b[39m._clear_result()\n\u001b[32m--> \u001b[39m\u001b[32m322\u001b[39m \u001b[43mconn\u001b[49m\u001b[43m.\u001b[49m\u001b[43mquery\u001b[49m\u001b[43m(\u001b[49m\u001b[43mq\u001b[49m\u001b[43m)\u001b[49m\n\u001b[32m    323\u001b[39m \u001b[38;5;28mself\u001b[39m._do_get_result()\n\u001b[32m    324\u001b[39m \u001b[38;5;28;01mreturn\u001b[39;00m \u001b[38;5;28mself\u001b[39m.rowcount\n",
      "\u001b[36mFile \u001b[39m\u001b[32mc:\\Users\\jarvis_lu\\Documents\\course\\iSpan\\ispan_env\\Lib\\site-packages\\pymysql\\connections.py:562\u001b[39m, in \u001b[36mConnection.query\u001b[39m\u001b[34m(self, sql, unbuffered)\u001b[39m\n\u001b[32m    560\u001b[39m \u001b[38;5;28;01mif\u001b[39;00m \u001b[38;5;28misinstance\u001b[39m(sql, \u001b[38;5;28mstr\u001b[39m):\n\u001b[32m    561\u001b[39m     sql = sql.encode(\u001b[38;5;28mself\u001b[39m.encoding, \u001b[33m\"\u001b[39m\u001b[33msurrogateescape\u001b[39m\u001b[33m\"\u001b[39m)\n\u001b[32m--> \u001b[39m\u001b[32m562\u001b[39m \u001b[38;5;28;43mself\u001b[39;49m\u001b[43m.\u001b[49m\u001b[43m_execute_command\u001b[49m\u001b[43m(\u001b[49m\u001b[43mCOMMAND\u001b[49m\u001b[43m.\u001b[49m\u001b[43mCOM_QUERY\u001b[49m\u001b[43m,\u001b[49m\u001b[43m \u001b[49m\u001b[43msql\u001b[49m\u001b[43m)\u001b[49m\n\u001b[32m    563\u001b[39m \u001b[38;5;28mself\u001b[39m._affected_rows = \u001b[38;5;28mself\u001b[39m._read_query_result(unbuffered=unbuffered)\n\u001b[32m    564\u001b[39m \u001b[38;5;28;01mreturn\u001b[39;00m \u001b[38;5;28mself\u001b[39m._affected_rows\n",
      "\u001b[36mFile \u001b[39m\u001b[32mc:\\Users\\jarvis_lu\\Documents\\course\\iSpan\\ispan_env\\Lib\\site-packages\\pymysql\\connections.py:864\u001b[39m, in \u001b[36mConnection._execute_command\u001b[39m\u001b[34m(self, command, sql)\u001b[39m\n\u001b[32m    862\u001b[39m prelude = struct.pack(\u001b[33m\"\u001b[39m\u001b[33m<iB\u001b[39m\u001b[33m\"\u001b[39m, packet_size, command)\n\u001b[32m    863\u001b[39m packet = prelude + sql[: packet_size - \u001b[32m1\u001b[39m]\n\u001b[32m--> \u001b[39m\u001b[32m864\u001b[39m \u001b[38;5;28;43mself\u001b[39;49m\u001b[43m.\u001b[49m\u001b[43m_write_bytes\u001b[49m\u001b[43m(\u001b[49m\u001b[43mpacket\u001b[49m\u001b[43m)\u001b[49m\n\u001b[32m    865\u001b[39m \u001b[38;5;28;01mif\u001b[39;00m DEBUG:\n\u001b[32m    866\u001b[39m     dump_packet(packet)\n",
      "\u001b[36mFile \u001b[39m\u001b[32mc:\\Users\\jarvis_lu\\Documents\\course\\iSpan\\ispan_env\\Lib\\site-packages\\pymysql\\connections.py:809\u001b[39m, in \u001b[36mConnection._write_bytes\u001b[39m\u001b[34m(self, data)\u001b[39m\n\u001b[32m    807\u001b[39m \u001b[38;5;28;01mexcept\u001b[39;00m \u001b[38;5;167;01mOSError\u001b[39;00m \u001b[38;5;28;01mas\u001b[39;00m e:\n\u001b[32m    808\u001b[39m     \u001b[38;5;28mself\u001b[39m._force_close()\n\u001b[32m--> \u001b[39m\u001b[32m809\u001b[39m     \u001b[38;5;28;01mraise\u001b[39;00m err.OperationalError(\n\u001b[32m    810\u001b[39m         CR.CR_SERVER_GONE_ERROR, \u001b[33mf\u001b[39m\u001b[33m\"\u001b[39m\u001b[33mMySQL server has gone away (\u001b[39m\u001b[38;5;132;01m{\u001b[39;00me\u001b[38;5;132;01m!r}\u001b[39;00m\u001b[33m)\u001b[39m\u001b[33m\"\u001b[39m\n\u001b[32m    811\u001b[39m     )\n",
      "\u001b[31mOperationalError\u001b[39m: (2006, \"MySQL server has gone away (ConnectionAbortedError(10053, '連線已被您主機上的軟體中止。', None, 10053, None))\")"
     ]
    }
   ],
   "source": [
    "# 使用 SQL Injection 攻擊，取得所有使用者的資料\n",
    "username = \"' OR 1=1; -- \"\n",
    "password = \"\"\n",
    "\n",
    "with connection.cursor() as cursor:\n",
    "    sql = f\"\"\"\n",
    "        SELECT * FROM users WHERE username = '{username}' AND password = '{password}'\n",
    "    \"\"\"\n",
    "    print(sql)\n",
    "    cursor.execute(sql)\n",
    "    result = cursor.fetchall()\n",
    "print(result)\n"
   ]
  },
  {
   "cell_type": "code",
   "execution_count": 26,
   "id": "3c125693",
   "metadata": {},
   "outputs": [
    {
     "name": "stdout",
     "output_type": "stream",
     "text": [
      "\n",
      "        SELECT * FROM users WHERE username = %s AND password = %s\n",
      "    \n",
      "()\n"
     ]
    }
   ],
   "source": [
    "# 使用 SQL Injection 攻擊，取得所有使用者的資料\n",
    "username = \"' OR 1=1; -- \"\n",
    "password = \"\"\n",
    "\n",
    "with connection.cursor() as cursor:\n",
    "    sql = \"\"\"\n",
    "        SELECT * FROM users WHERE username = %s AND password = %s\n",
    "    \"\"\"\n",
    "    print(sql)\n",
    "    cursor.execute(sql, (username, password))\n",
    "    result = cursor.fetchall()\n",
    "print(result)"
   ]
  }
 ],
 "metadata": {
  "kernelspec": {
   "display_name": "ispan_env",
   "language": "python",
   "name": "python3"
  },
  "language_info": {
   "codemirror_mode": {
    "name": "ipython",
    "version": 3
   },
   "file_extension": ".py",
   "mimetype": "text/x-python",
   "name": "python",
   "nbconvert_exporter": "python",
   "pygments_lexer": "ipython3",
   "version": "3.12.3"
  }
 },
 "nbformat": 4,
 "nbformat_minor": 5
}
