{
 "cells": [
  {
   "cell_type": "code",
   "execution_count": null,
   "id": "33dbd62c",
   "metadata": {},
   "outputs": [],
   "source": [
    "import pymysql\n",
    "from configparser import ConfigParser\n",
    "\n",
    "config = ConfigParser()\n",
    "config.read() # 指定設定檔的檔案路徑\n",
    "\n",
    "connection = pymysql.connect(\n",
    "    host=config.get('DB', 'host'),\n",
    "    user=config.get('DB', 'user'),\n",
    "    password=config.get('DB', 'password'),\n",
    "    port=config.getint('DB', 'port'),\n",
    "    cursorclass=pymysql.cursors.DictCursor,\n",
    ")\n",
    "\n",
    "print(connection.open)"
   ]
  },
  {
   "cell_type": "markdown",
   "id": "d9ca1dae",
   "metadata": {},
   "source": [
    "建立資料庫"
   ]
  },
  {
   "cell_type": "code",
   "execution_count": null,
   "id": "f4ad4cad",
   "metadata": {},
   "outputs": [],
   "source": [
    "with connection.cursor() as cursor:\n",
    "    \"\"\" 建立 user 資料表\n",
    "        id 主鍵\n",
    "        name 字串 不能為空\n",
    "        age 整數 \n",
    "        username 字串 不能為空 必須唯一\n",
    "        password 字串 不能為空\n",
    "    \"\"\"\n",
    "    sql = \"\"\"\n",
    "\n",
    "    \"\"\"\n",
    "    # 執行建立的 SQL 語句\n",
    "\n",
    "    # 執行查看資料庫\n",
    "\n"
   ]
  },
  {
   "cell_type": "markdown",
   "id": "3c991f67",
   "metadata": {},
   "source": [
    "建立資料表"
   ]
  },
  {
   "cell_type": "code",
   "execution_count": null,
   "id": "5b298020",
   "metadata": {},
   "outputs": [],
   "source": [
    "connection = pymysql.connect(\n",
    "    host=config.get('DB', 'host'),\n",
    "    user=config.get('DB', 'user'),\n",
    "    password=config.get('DB', 'password'),\n",
    "    port=config.getint('DB', 'port'),\n",
    "    cursorclass=pymysql.cursors.DictCursor,\n",
    "    db=,\n",
    ")\n",
    "\n",
    "with connection.cursor() as cursor:\n",
    "    sql = \"\"\"\n",
    "\n",
    "    \"\"\"\n",
    "    cursor.execute(sql)\n"
   ]
  },
  {
   "cell_type": "markdown",
   "id": "2956529b",
   "metadata": {},
   "source": [
    "寫入資料"
   ]
  },
  {
   "cell_type": "code",
   "execution_count": null,
   "id": "70715bba",
   "metadata": {},
   "outputs": [],
   "source": [
    "from pprint import pprint\n",
    "with connection.cursor() as cursor:\n",
    "    sql = \"\"\"\n",
    "\n",
    "    \"\"\"\n",
    "    # 執行寫入的 SQL 語句\n",
    "    cursor.execute(sql)\n",
    "    \n",
    "    # 執行查詢資料表\n",
    "\n",
    "    # 取得查詢的所有資料\n"
   ]
  },
  {
   "cell_type": "markdown",
   "id": "2bd2abcf",
   "metadata": {},
   "source": [
    "使用另一個連線查詢資料庫"
   ]
  },
  {
   "cell_type": "code",
   "execution_count": null,
   "id": "f0685470",
   "metadata": {},
   "outputs": [],
   "source": [
    "connection2 = pymysql.connect(\n",
    "    host=config.get('DB', 'host'),\n",
    "    user=config.get('DB', 'user'),\n",
    "    password=config.get('DB', 'password'),\n",
    "    port=config.getint('DB', 'port'),\n",
    "    cursorclass=pymysql.cursors.DictCursor,\n",
    "    db='chapter2',\n",
    ")\n",
    "with connection.cursor() as cursor:\n",
    "    cursor.execute(\"SELECT * FROM user;\")\n",
    "    result = cursor.fetchall()\n",
    "\n",
    "pprint(result)"
   ]
  },
  {
   "cell_type": "markdown",
   "id": "98dbc5eb",
   "metadata": {},
   "source": [
    "提交資料庫變更 `conncection.commit()`"
   ]
  },
  {
   "cell_type": "code",
   "execution_count": null,
   "id": "82942e7e",
   "metadata": {},
   "outputs": [],
   "source": [
    "from pprint import pprint\n",
    "with connection.cursor() as cursor:\n",
    "    sql = \"\"\"\n",
    "\n",
    "    \"\"\"\n",
    "    cursor.execute(sql)\n",
    "    # 提交資料庫的變更\n",
    "    \n",
    "    "
   ]
  },
  {
   "cell_type": "markdown",
   "id": "939e4ac0",
   "metadata": {},
   "source": [
    "更新資料"
   ]
  },
  {
   "cell_type": "code",
   "execution_count": null,
   "id": "4f21772c",
   "metadata": {},
   "outputs": [],
   "source": [
    "with connection.cursor() as cursor:\n",
    "    sql = \"\"\"\n",
    "\n",
    "    \"\"\"\n",
    "    cursor.execute(sql)\n",
    "    \n",
    "    # 提交資料庫的變更\n",
    "    \n",
    "    \n",
    "    cursor.execute(\"SELECT * FROM users;\")\n",
    "    result = cursor.fetchall()\n",
    "pprint(result)"
   ]
  },
  {
   "cell_type": "markdown",
   "id": "3cd8cd0f",
   "metadata": {},
   "source": [
    "刪除資料表"
   ]
  },
  {
   "cell_type": "code",
   "execution_count": null,
   "id": "44977835",
   "metadata": {},
   "outputs": [],
   "source": [
    "with connection.cursor() as cursor:\n",
    "    sql = \"\"\"\n",
    "\n",
    "    \"\"\"\n",
    "    cursor.execute(sql)\n",
    "    cursor.execute(\"SHOW TABLES;\")\n",
    "    result = cursor.fetchall()\n",
    "\n",
    "print(result)"
   ]
  }
 ],
 "metadata": {
  "kernelspec": {
   "display_name": "base",
   "language": "python",
   "name": "python3"
  },
  "language_info": {
   "codemirror_mode": {
    "name": "ipython",
    "version": 3
   },
   "file_extension": ".py",
   "mimetype": "text/x-python",
   "name": "python",
   "nbconvert_exporter": "python",
   "pygments_lexer": "ipython3",
   "version": "3.9.12"
  }
 },
 "nbformat": 4,
 "nbformat_minor": 5
}
