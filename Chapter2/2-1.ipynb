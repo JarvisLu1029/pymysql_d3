{
 "cells": [
  {
   "cell_type": "code",
   "execution_count": 9,
   "id": "33dbd62c",
   "metadata": {},
   "outputs": [
    {
     "name": "stdout",
     "output_type": "stream",
     "text": [
      "True\n"
     ]
    }
   ],
   "source": [
    "import pymysql\n",
    "from configparser import ConfigParser\n",
    "\n",
    "config = ConfigParser()\n",
    "config.read('../Chapter1/config.ini')\n",
    "\n",
    "connection = pymysql.connect(\n",
    "    host=config.get('DB', 'host'),\n",
    "    user=config.get('DB', 'user'),\n",
    "    password=config.get('DB', 'password'),\n",
    "    port=config.getint('DB', 'port'),\n",
    "    cursorclass=pymysql.cursors.DictCursor,\n",
    ")\n",
    "\n",
    "print(connection.open)"
   ]
  },
  {
   "cell_type": "markdown",
   "id": "d9ca1dae",
   "metadata": {},
   "source": [
    "建立資料庫"
   ]
  },
  {
   "cell_type": "code",
   "execution_count": 10,
   "id": "f4ad4cad",
   "metadata": {},
   "outputs": [
    {
     "name": "stdout",
     "output_type": "stream",
     "text": [
      "[{'Database': 'chapter2'}, {'Database': 'chapter3'}, {'Database': 'glis_test'}, {'Database': 'information_schema'}, {'Database': 'mydatabase'}, {'Database': 'mylocation'}, {'Database': 'mysql'}, {'Database': 'ntnu_books'}, {'Database': 'performance_schema'}, {'Database': 'sakila'}, {'Database': 'stock_project'}, {'Database': 'superstore'}, {'Database': 'sys'}, {'Database': 'world'}]\n"
     ]
    }
   ],
   "source": [
    "with connection.cursor() as cursor:\n",
    "    sql = \"\"\"\n",
    "        CREATE DATABASE IF NOT EXISTS chapter2;\n",
    "    \"\"\"\n",
    "    # 執行建立的 SQL 語句\n",
    "    cursor.execute(sql)\n",
    "    # 執行查看資料庫\n",
    "    cursor.execute(\"SHOW DATABASES;\")\n",
    "    result = cursor.fetchall()\n",
    "\n",
    "print(result)"
   ]
  },
  {
   "cell_type": "markdown",
   "id": "3c991f67",
   "metadata": {},
   "source": [
    "建立資料表"
   ]
  },
  {
   "cell_type": "code",
   "execution_count": 13,
   "id": "5b298020",
   "metadata": {},
   "outputs": [
    {
     "name": "stdout",
     "output_type": "stream",
     "text": [
      "[{'Tables_in_chapter2': 'user'}, {'Tables_in_chapter2': 'users'}]\n"
     ]
    }
   ],
   "source": [
    "connection = pymysql.connect(\n",
    "    host=config.get('DB', 'host'),\n",
    "    user=config.get('DB', 'user'),\n",
    "    password=config.get('DB', 'password'),\n",
    "    port=config.getint('DB', 'port'),\n",
    "    cursorclass=pymysql.cursors.DictCursor,\n",
    "    db='chapter2',\n",
    ")\n",
    "\n",
    "with connection.cursor() as cursor:\n",
    "    sql = \"\"\"\n",
    "        CREATE TABLE IF NOT EXISTS user (\n",
    "            id INT AUTO_INCREMENT PRIMARY KEY,\n",
    "            name VARCHAR(255) NOT NULL,\n",
    "            age INT NOT NULL,\n",
    "            username VARCHAR(255) NOT NULL,\n",
    "            password VARCHAR(255) NOT NULL\n",
    "        );\n",
    "    \"\"\"\n",
    "    cursor.execute(sql)\n",
    "    cursor.execute(\"SHOW TABLES;\")\n",
    "    result = cursor.fetchall()\n",
    "\n",
    "print(result)"
   ]
  },
  {
   "cell_type": "markdown",
   "id": "2956529b",
   "metadata": {},
   "source": [
    "寫入資料"
   ]
  },
  {
   "cell_type": "code",
   "execution_count": 14,
   "id": "70715bba",
   "metadata": {},
   "outputs": [
    {
     "name": "stdout",
     "output_type": "stream",
     "text": [
      "[{'age': 25,\n",
      "  'id': 1,\n",
      "  'name': 'Jarvis',\n",
      "  'password': '123456',\n",
      "  'username': 'jarvis'}]\n"
     ]
    }
   ],
   "source": [
    "from pprint import pprint\n",
    "with connection.cursor() as cursor:\n",
    "    sql = \"\"\"\n",
    "        INSERT INTO user (name, age, username, password)\n",
    "        VALUES (\"Jarvis\", 25, \"jarvis\", \"123456\")\n",
    "    \"\"\"\n",
    "    # 執行寫入的 SQL 語句\n",
    "    cursor.execute(sql)\n",
    "    \n",
    "    # 執行查詢資料表\n",
    "    cursor.execute(\"SELECT * FROM user;\")\n",
    "    # 取得查詢的所有資料\n",
    "    result = cursor.fetchall()\n",
    "\n",
    "pprint(result)"
   ]
  },
  {
   "cell_type": "markdown",
   "id": "2bd2abcf",
   "metadata": {},
   "source": [
    "使用另一個連線查詢資料庫"
   ]
  },
  {
   "cell_type": "code",
   "execution_count": null,
   "id": "f0685470",
   "metadata": {},
   "outputs": [],
   "source": [
    "connection2 = pymysql.connect(\n",
    "    host=config.get('DB', 'host'),\n",
    "    user=config.get('DB', 'user'),\n",
    "    password=config.get('DB', 'password'),\n",
    "    port=config.getint('DB', 'port'),\n",
    "    cursorclass=pymysql.cursors.DictCursor,\n",
    "    db='chapter2',\n",
    ")\n",
    "with connection.cursor() as cursor:\n",
    "    cursor.execute(\"SELECT * FROM user;\")\n",
    "    result = cursor.fetchall()\n",
    "\n",
    "pprint(result)"
   ]
  },
  {
   "cell_type": "markdown",
   "id": "98dbc5eb",
   "metadata": {},
   "source": [
    "提交資料庫變更 `conncection.commit()`"
   ]
  },
  {
   "cell_type": "code",
   "execution_count": 12,
   "id": "82942e7e",
   "metadata": {},
   "outputs": [
    {
     "name": "stdout",
     "output_type": "stream",
     "text": [
      "[{'age': 25,\n",
      "  'id': 1,\n",
      "  'name': 'Jarvis',\n",
      "  'password': '123456',\n",
      "  'username': 'jarvis'}]\n"
     ]
    }
   ],
   "source": [
    "from pprint import pprint\n",
    "with connection.cursor() as cursor:\n",
    "    sql = \"\"\"\n",
    "        INSERT INTO users (name, age, username, password)\n",
    "        VALUES (\"Jarvis\", 25, \"jarvis\", \"123456\")\n",
    "    \"\"\"\n",
    "    cursor.execute(sql)\n",
    "    # 提交資料庫的變更\n",
    "    connection.commit()\n",
    "    cursor.execute(\"SELECT * FROM users;\")\n",
    "    result = cursor.fetchall()\n",
    "pprint(result)"
   ]
  },
  {
   "cell_type": "markdown",
   "id": "939e4ac0",
   "metadata": {},
   "source": [
    "更新資料"
   ]
  },
  {
   "cell_type": "code",
   "execution_count": null,
   "id": "4f21772c",
   "metadata": {},
   "outputs": [],
   "source": [
    "with connection.cursor() as cursor:\n",
    "    sql = \"\"\"\n",
    "        UPDATE users SET age = 26, name = \"Jarvis Lu\" WHERE id = 1;\n",
    "    \"\"\"\n",
    "    cursor.execute(sql)\n",
    "    \n",
    "    # 提交資料庫的變更\n",
    "    connection.commit()\n",
    "    cursor.execute(\"SELECT * FROM users;\")\n",
    "    result = cursor.fetchall()\n",
    "pprint(result)"
   ]
  },
  {
   "cell_type": "code",
   "execution_count": null,
   "id": "e6e1d86c",
   "metadata": {},
   "outputs": [],
   "source": [
    "with connection.cursor() as cursor:\n",
    "    sql = \"\"\"\n",
    "        SELECT * FROM users;\n",
    "    \"\"\"\n",
    "    cursor.execute(sql)\n",
    "    result = cursor.fetchall()\n",
    "print(result)"
   ]
  },
  {
   "cell_type": "markdown",
   "id": "3cd8cd0f",
   "metadata": {},
   "source": [
    "刪除資料表"
   ]
  },
  {
   "cell_type": "code",
   "execution_count": null,
   "id": "44977835",
   "metadata": {},
   "outputs": [],
   "source": [
    "with connection.cursor() as cursor:\n",
    "    sql = \"\"\"\n",
    "        DROP TABLE IF EXISTS users;\n",
    "    \"\"\"\n",
    "    cursor.execute(sql)\n",
    "    cursor.execute(\"SHOW TABLES;\")\n",
    "    result = cursor.fetchall()\n",
    "\n",
    "print(result)"
   ]
  }
 ],
 "metadata": {
  "kernelspec": {
   "display_name": "base",
   "language": "python",
   "name": "python3"
  },
  "language_info": {
   "codemirror_mode": {
    "name": "ipython",
    "version": 3
   },
   "file_extension": ".py",
   "mimetype": "text/x-python",
   "name": "python",
   "nbconvert_exporter": "python",
   "pygments_lexer": "ipython3",
   "version": "3.9.12"
  }
 },
 "nbformat": 4,
 "nbformat_minor": 5
}
