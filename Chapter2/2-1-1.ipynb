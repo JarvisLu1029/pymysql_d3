{
 "cells": [
  {
   "cell_type": "code",
   "execution_count": 8,
   "id": "5843ad11",
   "metadata": {},
   "outputs": [
    {
     "name": "stdout",
     "output_type": "stream",
     "text": [
      "[{'last_login': datetime.datetime(2025, 2, 8, 9, 51, 8, 434477), 'id': 1, 'username': 'Admin', 'password': 'pbkdf2_sha256$870000$wW2HGTPbY0VQu6tAwCdmp3$xI3FSXSDJROl27NMRrxdD7FQmV6N8MeFiwf2zOo+vkA=', 'ch_name': None, 'name': 'AdminUser', 'gender': None, 'birthday': None, 'phone': None, 'address': None, 'department': 'BioInf/IT', 'email': '', 'status': 'Active', 'work_area': None, 'work_address': None, 'work_type': None, 'work_start_time': None, 'work_end_time': None, 'work_title': None, 'created_at': datetime.datetime(2025, 2, 4, 16, 2, 28, 156276), 'last_activity': datetime.datetime(2025, 2, 8, 9, 58, 1, 164632), 'start_date': None, 'paid_time_off': 0.0, 'compensatory_time': 0.0, 'role_id': '1'}]\n"
     ]
    }
   ],
   "source": [
    "import pymysql\n",
    "from configparser import ConfigParser\n",
    "\n",
    "config = ConfigParser()\n",
    "config.read('../Chapter1/config.ini')\n",
    "\n",
    "connection = pymysql.connect(\n",
    "    host=config.get('DB', 'host'),\n",
    "    user=config.get('DB', 'user'),\n",
    "    password=config.get('DB', 'password'),\n",
    "    port=config.getint('DB', 'port'),\n",
    "    cursorclass=pymysql.cursors.DictCursor,\n",
    "    database=\"employee_management\"\n",
    ")\n",
    "\n",
    "with connection.cursor() as cursor:\n",
    "    query = \"\"\"\n",
    "        SELECT * FROM main_user LIMIT %s\n",
    "    \"\"\"\n",
    "    cursor.execute(query, (1,))\n",
    "    result = cursor.fetchall()\n",
    "\n",
    "print(result)"
   ]
  }
 ],
 "metadata": {
  "kernelspec": {
   "display_name": "ispan_env",
   "language": "python",
   "name": "python3"
  },
  "language_info": {
   "codemirror_mode": {
    "name": "ipython",
    "version": 3
   },
   "file_extension": ".py",
   "mimetype": "text/x-python",
   "name": "python",
   "nbconvert_exporter": "python",
   "pygments_lexer": "ipython3",
   "version": "3.12.3"
  }
 },
 "nbformat": 4,
 "nbformat_minor": 5
}
